{
 "cells": [
  {
   "cell_type": "code",
   "execution_count": 5,
   "metadata": {},
   "outputs": [
    {
     "data": {
      "text/plain": [
       "[1, 2, 3, 4, 5, 6, 7, 8]"
      ]
     },
     "execution_count": 5,
     "metadata": {},
     "output_type": "execute_result"
    }
   ],
   "source": [
    "def quicksort(nums):\n",
    "    def partition(low, high):\n",
    "        pivot = nums[high]\n",
    "        i = low - 1\n",
    "        for j in range(low, high):\n",
    "            if nums[j] < pivot:\n",
    "                i += 1\n",
    "                nums[i], nums[j] = nums[j], nums[i]\n",
    "        nums[i + 1], nums[high] = nums[high], nums[i + 1]\n",
    "        return i + 1\n",
    "    def quick(low, high):\n",
    "        if low < high:\n",
    "            pi = partition(low, high)\n",
    "            quick(low, pi - 1)\n",
    "            quick(pi + 1, high)\n",
    "    quick(0, len(nums) - 1)\n",
    "    return nums    \n",
    "nums = [3,2,1,6,4,8,7,5]\n",
    "quicksort(nums)"
   ]
  },
  {
   "cell_type": "code",
   "execution_count": null,
   "metadata": {},
   "outputs": [],
   "source": []
  },
  {
   "cell_type": "code",
   "execution_count": null,
   "metadata": {},
   "outputs": [],
   "source": []
  },
  {
   "cell_type": "code",
   "execution_count": null,
   "metadata": {},
   "outputs": [],
   "source": []
  },
  {
   "cell_type": "code",
   "execution_count": null,
   "metadata": {},
   "outputs": [],
   "source": [
    "\n",
    "\n",
    "\n",
    "\n",
    "\n",
    "\n",
    "\n"
   ]
  },
  {
   "cell_type": "code",
   "execution_count": 1,
   "metadata": {},
   "outputs": [
    {
     "data": {
      "text/plain": [
       "[1, 2, 3, 5, 7, 9]"
      ]
     },
     "execution_count": 1,
     "metadata": {},
     "output_type": "execute_result"
    }
   ],
   "source": [
    "def quicksort(arr):\n",
    "    def partition(low, high):\n",
    "        pivot = arr[high]\n",
    "        i = low - 1\n",
    "        for j in range(low, high):\n",
    "            if arr[j] < pivot:\n",
    "                i += 1\n",
    "                arr[i], arr[j] = arr[j], arr[i]\n",
    "        arr[i + 1], arr[high] = arr[high], arr[i + 1]\n",
    "        return i + 1\n",
    "\n",
    "    def quick(low, high):\n",
    "        if low < high:\n",
    "            pi = partition(low, high)\n",
    "            quick(low, pi - 1)\n",
    "            quick(pi + 1, high)\n",
    "    \n",
    "    quick(0, len(arr) - 1)\n",
    "    return arr\n",
    "arr = [3, 1, 2, 9, 7, 5]\n",
    "quicksort(arr)"
   ]
  },
  {
   "cell_type": "code",
   "execution_count": null,
   "metadata": {},
   "outputs": [],
   "source": [
    "def twoSum(nums, target):\n",
    "    result = {}\n",
    "    for i, num in enumerate(nums):\n",
    "        if target - num in result:\n",
    "            return [result[target - num], i]\n",
    "        else:\n",
    "            result[num] = i\n",
    "            "
   ]
  },
  {
   "cell_type": "code",
   "execution_count": null,
   "metadata": {},
   "outputs": [],
   "source": [
    "def addtwonumbers(l1, l2):\n",
    "    cur = dummy = ListNode()\n",
    "    num = 0\n",
    "    while l1 or l2 or num:\n",
    "        val1 = l1.val if l1 else 0\n",
    "        val2 = l2.val if l2 else 0\n",
    "        total = val1 + val2 + num\n",
    "        num = total // 10\n",
    "        total = total % 10\n",
    "        cur.next = ListNode(total)\n",
    "        cur = cur.next\n",
    "        if l1:\n",
    "            l1 = l1.next\n",
    "        if l2:\n",
    "            l2 = l2.next\n",
    "    return dummy.next\n",
    "    "
   ]
  },
  {
   "cell_type": "code",
   "execution_count": null,
   "metadata": {},
   "outputs": [],
   "source": [
    "def maxzichuan(s):\n",
    "    window = set()\n",
    "    left = 0\n",
    "    ans  = 0\n",
    "    for right, c in enumerate(s):\n",
    "        while c in window:\n",
    "            window.remove(s[left])\n",
    "            left += 1\n",
    "        window.add(c)\n",
    "        ans = max(ans, right - left + 1)\n",
    "    return ans"
   ]
  },
  {
   "cell_type": "code",
   "execution_count": null,
   "metadata": {},
   "outputs": [],
   "source": [
    "def expand(s, i, j):\n",
    "    while i >= 0 and j < len(s) and s[l] == s[r]:\n",
    "        i -= 1\n",
    "        j += 1\n",
    "    return j - i - 1\n",
    "def huiwenzichuan(s):\n",
    "    start, end = 0, 0\n",
    "    for i in range(len(s)):\n",
    "        len1 = expand(s, i, i)\n",
    "        len2 = expand(s, i, i + 1)\n",
    "        max_len = max(len1, len2)\n",
    "        if max_len > end - start:\n",
    "            start = i - (max_len - 1) // 2\n",
    "            end = i + max_len // 2\n",
    "    return s[start: end + 1]"
   ]
  },
  {
   "cell_type": "code",
   "execution_count": 1,
   "metadata": {},
   "outputs": [],
   "source": [
    "def maxArea(height):\n",
    "    ans = 0\n",
    "    left, right = 0, len(height) - 1\n",
    "    while left < right:\n",
    "        cur = min(height[left], height[right])\n",
    "        ans = max(ans, cur)\n",
    "        if height[left] < height[right]:\n",
    "            left += 1\n",
    "        else:\n",
    "            right -= 1\n",
    "    return ans"
   ]
  },
  {
   "cell_type": "code",
   "execution_count": 3,
   "metadata": {},
   "outputs": [
    {
     "data": {
      "text/plain": [
       "[[-1, 0, 1]]"
      ]
     },
     "execution_count": 3,
     "metadata": {},
     "output_type": "execute_result"
    }
   ],
   "source": [
    "def threeSum(nums):\n",
    "    nums.sort()\n",
    "    result = []\n",
    "    n = len(nums)\n",
    "    for i in range(n):\n",
    "        if i > 0 and nums[i] == nums[i - 1]:\n",
    "            continue\n",
    "        left, right = i + 1, n - 1\n",
    "        while left < right:\n",
    "            total = nums[i] + nums[left] + nums[right]\n",
    "            if total > 0:\n",
    "                right -= 1\n",
    "            elif total < 0:\n",
    "                left += 1\n",
    "            else:\n",
    "                result.append([nums[i], nums[left], nums[right]])\n",
    "                while left < right and nums[left] == nums[left + 1]:\n",
    "                    left += 1\n",
    "                while left < right and nums[right] == nums[right - 1]:\n",
    "                    right -= 1\n",
    "                left += 1\n",
    "                right -= 1\n",
    "    return result\n",
    "nums = [1, 0, -1]\n",
    "threeSum(nums)\n",
    "                    "
   ]
  },
  {
   "cell_type": "code",
   "execution_count": 5,
   "metadata": {},
   "outputs": [
    {
     "data": {
      "text/plain": [
       "['ad', 'ae', 'af', 'bd', 'be', 'bf', 'cd', 'ce', 'cf']"
      ]
     },
     "execution_count": 5,
     "metadata": {},
     "output_type": "execute_result"
    }
   ],
   "source": [
    "def dianhua(digits):\n",
    "    MAPPING = \"\", \"\", \"abc\", \"def\", \"ghi\", \"jkl\", \"mno\", \"pqrs\", \"tuv\", \"wxyz\"\n",
    "    n = len(digits)\n",
    "    ans = []\n",
    "    path = [''] * n\n",
    "    if n == 0:\n",
    "        return []\n",
    "    def backtrack(i):\n",
    "        if i == n:\n",
    "            ans.append(''.join(path))\n",
    "            return \n",
    "        for c in MAPPING[int(digits[i])]:\n",
    "            path.append(c)\n",
    "            backtrack(i + 1)\n",
    "            path.pop()\n",
    "    backtrack(0)\n",
    "    return ans\n",
    "dianhua(\"23\")"
   ]
  },
  {
   "cell_type": "code",
   "execution_count": null,
   "metadata": {},
   "outputs": [
    {
     "data": {
      "text/plain": [
       "'120'"
      ]
     },
     "execution_count": 1,
     "metadata": {},
     "output_type": "execute_result"
    }
   ],
   "source": [
    "def addString(num1, num2):\n",
    "    res = \"\"\n",
    "    i, j = len(num1) - 1, len(num2) - 1\n",
    "    carry = 0\n",
    "    while i >= 0 or j >= 0:\n",
    "        n1 = int(num1[i]) if i >= 0 else 0\n",
    "        n2 = int(num2[j]) if j >= 0 else 0\n",
    "        tmp = n1 + n2 + carry\n",
    "        carry = tmp // 10\n",
    "        res = str(tmp % 10) + res\n",
    "        i, j = i - 1, j - 1\n",
    "    return \"1\" + res if carry else res\n",
    "num1 = \"111\"\n",
    "num2 = \"9\"\n",
    "addString(num1, num2)\n"
   ]
  },
  {
   "cell_type": "code",
   "execution_count": 2,
   "metadata": {},
   "outputs": [],
   "source": [
    "def removeNode(head, n):\n",
    "    dummy = ListNode()\n",
    "    dummy.next = head\n",
    "    slow = fast = dummy\n",
    "    for i in range(n + 1):\n",
    "        fast = fast.next\n",
    "    while fast:\n",
    "        fast = fast.next\n",
    "        slow = slow.next\n",
    "    slow.next = slow.next.next\n",
    "    return dummy.next\n",
    "    "
   ]
  },
  {
   "cell_type": "code",
   "execution_count": null,
   "metadata": {},
   "outputs": [
    {
     "data": {
      "text/plain": [
       "True"
      ]
     },
     "execution_count": 3,
     "metadata": {},
     "output_type": "execute_result"
    }
   ],
   "source": [
    "def isValid(s):\n",
    "    if len(s) % 2 != 0:\n",
    "        return False\n",
    "    stack = []\n",
    "    mp = {\"}\":\"{\", \"]\": \"[\", \")\": \"(\"}\n",
    "    for c in mp:\n",
    "        if c not in mp:\n",
    "            stack.append(c)\n",
    "        elif not stack or stack.pop() != mp[c]:\n",
    "            return False\n",
    "    return not stack\n",
    "s = \"({{}})\"\n",
    "isValid(s)"
   ]
  },
  {
   "cell_type": "code",
   "execution_count": null,
   "metadata": {},
   "outputs": [],
   "source": [
    "def mergeList(l1, l2):\n",
    "    cur = dummy = ListNode()\n",
    "    while l1 and l2:\n",
    "        if l1.val < l2.val:\n",
    "            cur.next = l1\n",
    "            l1 = l1.next\n",
    "        else:\n",
    "            cur.next = l2\n",
    "            l2 = l2.next\n",
    "        cur = cur.next\n",
    "    if l1:\n",
    "        l1 = l1.next\n",
    "    if l2:\n",
    "        l2 = l2.next\n",
    "    return dummy.next"
   ]
  },
  {
   "cell_type": "code",
   "execution_count": 2,
   "metadata": {},
   "outputs": [
    {
     "data": {
      "text/plain": [
       "['((()))', '(()())', '(())()', '()(())', '()()()']"
      ]
     },
     "execution_count": 2,
     "metadata": {},
     "output_type": "execute_result"
    }
   ],
   "source": [
    "def genkuohao(n):\n",
    "    ans, path = [], []\n",
    "    def dfs(i, j):\n",
    "        if i < j or i > n:\n",
    "            return \n",
    "        if i == n and j == n:\n",
    "            ans.append(''.join(path))\n",
    "            return \n",
    "        path.append(\"(\")\n",
    "        dfs(i + 1, j)\n",
    "        path.pop()\n",
    "        path.append(\")\")\n",
    "        dfs(i, j + 1)\n",
    "        path.pop()\n",
    "    dfs(0, 0)\n",
    "    return ans \n",
    "genkuohao(3)"
   ]
  },
  {
   "cell_type": "code",
   "execution_count": 1,
   "metadata": {},
   "outputs": [],
   "source": [
    "def mergeKList(lists):\n",
    "    pq = []\n",
    "    for i, l in enumerate(lists):\n",
    "        if l:\n",
    "            heapq.heappush(pq, (l.val, i, l))\n",
    "    cur = dummy = ListNode()\n",
    "    while pq:\n",
    "        val, idx, node = heapq.heappop(pq)\n",
    "        cur.next = node\n",
    "        cur = cur.next\n",
    "        if node.next:\n",
    "            heapq.heappush(pq, (node.next.val, idx, node.next))\n",
    "    return dummy.next"
   ]
  },
  {
   "cell_type": "code",
   "execution_count": null,
   "metadata": {},
   "outputs": [
    {
     "data": {
      "text/plain": [
       "[1, 2, 4, 3]"
      ]
     },
     "execution_count": 5,
     "metadata": {},
     "output_type": "execute_result"
    }
   ],
   "source": [
    "def nextpailie(nums):\n",
    "    n = len(nums)\n",
    "    i = n - 2\n",
    "    while i >= 0 and nums[i] >= nums[i + 1]:\n",
    "        i -= 1\n",
    "    if i >= 0:\n",
    "        j = n - 1\n",
    "        while j >= 0 and nums[j] < nums[i]:\n",
    "            j -= 1\n",
    "        nums[i], nums[j] = nums[j], nums[i]\n",
    "    nums[i + 1:] = nums[i + 1:][::-1]\n",
    "    "
   ]
  },
  {
   "cell_type": "code",
   "execution_count": 8,
   "metadata": {},
   "outputs": [],
   "source": [
    "def longkuohao(s):\n",
    "    stack = [-1]\n",
    "    n = len(s)\n",
    "    ans = 0\n",
    "    for i in range(n):\n",
    "        if s[i] == \"(\":\n",
    "            stack.append(i)\n",
    "        else:\n",
    "            if stack[-1] == -1 or s[stack[-1]] == \")\":\n",
    "                stack.append(i)\n",
    "            else:\n",
    "                stack.pop()\n",
    "                ans = max(ans, i - stack[-1])\n",
    "    return ans "
   ]
  },
  {
   "cell_type": "code",
   "execution_count": 9,
   "metadata": {},
   "outputs": [
    {
     "data": {
      "text/plain": [
       "1"
      ]
     },
     "execution_count": 9,
     "metadata": {},
     "output_type": "execute_result"
    }
   ],
   "source": [
    "def search(nums, target):\n",
    "    left, right = 0, len(nums) - 1\n",
    "    while left <= right:\n",
    "        mid = (left + right) // 2\n",
    "        if nums[mid] == target:\n",
    "            return mid\n",
    "        if nums[left] <= nums[mid]:\n",
    "            if nums[left] <= target < nums[mid]:\n",
    "                right = mid - 1\n",
    "            else:\n",
    "                left = mid + 1\n",
    "        else:\n",
    "            if nums[mid] <= target < nums[right]:\n",
    "                left = mid + 1\n",
    "            else:\n",
    "                right = mid - 1\n",
    "    return -1\n",
    "nums = [7,8,9,1,2,3]\n",
    "target = 8\n",
    "search(nums, target)"
   ]
  },
  {
   "cell_type": "code",
   "execution_count": 10,
   "metadata": {},
   "outputs": [],
   "source": [
    "def search_bound(nums, target):\n",
    "    left, right = 0, len(nums) - 1\n",
    "    while left <= right:\n",
    "        mid = (left + right) // 2\n",
    "        if nums[mid] < target:\n",
    "            left = mid + 1\n",
    "        else:\n",
    "            right = mid - 1\n",
    "    return left\n",
    "\n",
    "def search(nums, target):\n",
    "    start = search_bound(nums, target)\n",
    "    if start == len(nums) or nums[start] != target:\n",
    "        return [-1, -1]\n",
    "    end = search_bound(nums, target + 1) - 1\n",
    "    return [start, end]\n"
   ]
  },
  {
   "cell_type": "code",
   "execution_count": 2,
   "metadata": {},
   "outputs": [],
   "source": [
    "def zuhezonghe(candidates, target):\n",
    "    ans = []\n",
    "    path = []\n",
    "    def dfs(i, left):\n",
    "        if left == 0:\n",
    "            ans.append(path.copy())\n",
    "            return\n",
    "        if left < 0 or i == len(candidates):\n",
    "            return \n",
    "        dfs(i + 1, left)\n",
    "        path.append(candidates[i])\n",
    "        dfs(i, left - candidates[i])\n",
    "        path.pop()\n",
    "    dfs(0, target)\n",
    "    return ans"
   ]
  },
  {
   "cell_type": "code",
   "execution_count": null,
   "metadata": {},
   "outputs": [],
   "source": [
    "def sumK(nums, k):\n",
    "    pre_sum = defaultdict(int)\n",
    "    pre_sum[0] = 1\n",
    "    count = 0\n",
    "    cur_sum = 0\n",
    "    for num in nums:\n",
    "        cur_sum += num\n",
    "        count += presum[cur_sum - k]\n",
    "        pre_sum[cur_sum] += 1\n",
    "    return count"
   ]
  },
  {
   "cell_type": "code",
   "execution_count": 4,
   "metadata": {},
   "outputs": [],
   "source": [
    "def maxWindow(nums, k):\n",
    "    ans = []\n",
    "    queue = queue()\n",
    "    for i, num in enumerate(nums):\n",
    "        while queue and num > nums[queue[-1]]:\n",
    "            queue.pop()\n",
    "        queue.append(i)\n",
    "        if i - queue[0] > k:\n",
    "            queue.popleft()\n",
    "        if i == k - 1:\n",
    "            ans.append(nums[queue[0]])\n",
    "    return ans "
   ]
  },
  {
   "cell_type": "code",
   "execution_count": null,
   "metadata": {},
   "outputs": [],
   "source": [
    "def minzichuan(s, t):\n",
    "    s_count = Counter()\n",
    "    t_count = Counter(t)\n",
    "    left = 0\n",
    "    ans_left, ans_right = -1, len(s)\n",
    "    for right, c in enumerate(s):\n",
    "        s_count[c] += 1\n",
    "        while s_count > t_count:\n",
    "            if right - left < ans_right - ans_left:\n",
    "                ans_left, ans_right = left, right\n",
    "            s_count[c] -= 1\n",
    "            left += 1\n",
    "    return \"\" if ans_left < 0 else s[ans_left: ans_right + 1]\n",
    "     "
   ]
  },
  {
   "cell_type": "code",
   "execution_count": null,
   "metadata": {},
   "outputs": [],
   "source": [
    "def maxzishuzu(nums):\n",
    "    cur_sum = max_sum = nums[0]\n",
    "    for num in nums[1:]:\n",
    "        cur_sum = max(cur_sum + num, num)\n",
    "        max_sum = max(max_sum, cur_sum)\n",
    "    return max_sum"
   ]
  },
  {
   "cell_type": "code",
   "execution_count": null,
   "metadata": {},
   "outputs": [],
   "source": [
    "def mergearea(intervals):\n",
    "    intervals.sort(key = lambda x: x[0])\n",
    "    ans = []\n",
    "    for x in intervals:\n",
    "        if ans and x[0] <= ans[-1][1]:\n",
    "            ans[-1][1] = max(ans[-1][1], x[1])\n",
    "        else:\n",
    "            ans.append(x)\n",
    "    return ans"
   ]
  },
  {
   "cell_type": "code",
   "execution_count": null,
   "metadata": {},
   "outputs": [],
   "source": [
    "def lunzhuanshuzu(nums, k):\n",
    "    def exchange(i, j):\n",
    "        while i < j:\n",
    "            nums[i], nums[j] = nums[j], nums[i]\n",
    "            i += 1\n",
    "            j -= 1\n",
    "    n = len(nums)\n",
    "    k %= n\n",
    "    exchange(0, n - 1)\n",
    "    exchange(0, k - 1)\n",
    "    exchange(k, n - 1)\n",
    "    return nums\n",
    "    "
   ]
  },
  {
   "cell_type": "code",
   "execution_count": 1,
   "metadata": {},
   "outputs": [],
   "source": [
    "def chengji(nums):\n",
    "    n = len(nums)\n",
    "    suf = [1] * n\n",
    "    for i in range(n - 2, -1, -1):\n",
    "        suf[i] = suf[i + 1] * nums[i + 1]\n",
    "    pre = 1\n",
    "    for i, x in enumerate(nums):\n",
    "        suf[i] *= pre\n",
    "        pre *= x\n",
    "    return suf"
   ]
  },
  {
   "cell_type": "code",
   "execution_count": 4,
   "metadata": {},
   "outputs": [
    {
     "data": {
      "text/plain": [
       "4"
      ]
     },
     "execution_count": 4,
     "metadata": {},
     "output_type": "execute_result"
    }
   ],
   "source": [
    "def swap(nums, i, j):\n",
    "    nums[i], nums[j] = nums[j], nums[i]\n",
    "def findfirst(nums):\n",
    "    n = len(nums)\n",
    "    for i in range(n):\n",
    "        while 1 <= nums[i] <= n and nums[i] != nums[nums[i] - 1]:\n",
    "            swap(nums, i, nums[i] - 1)\n",
    "    for i in range(n + 1):\n",
    "        if nums[i] != i + 1:\n",
    "            return i + 1\n",
    "    return n + 1\n",
    "nums = [1,2,3,5]\n",
    "findfirst(nums)"
   ]
  },
  {
   "cell_type": "code",
   "execution_count": null,
   "metadata": {},
   "outputs": [],
   "source": [
    "def matrixZero(matrix):\n",
    "    row = len(matrix)\n",
    "    col = len(matrix[0])\n",
    "    row0_Flag = False\n",
    "    col0_Flag = False\n",
    "    for j in range(col):\n",
    "        if matrix[i][j] == 0:\n",
    "            row0_Flag = True\n",
    "            break\n",
    "    for i in range(row):\n",
    "        if matrix[i][j] == 0:\n",
    "            col0_Flag = True\n",
    "            break\n",
    "    for i in range(1, row):\n",
    "        for j in range(1, col):\n",
    "            if matrix[i][j] == 0:\n",
    "                matrix[i][0] = matrix[0][j] = 0\n",
    "    for i in range(1, row):\n",
    "        for j in range(1, col):\n",
    "            if matrix[i][0] == 0 or matrix[0][j] == 0:\n",
    "                matrix[i][j] = 0\n",
    "    if row0_Flag:\n",
    "        for j in range(col):\n",
    "            matrix[0][j] = 0\n",
    "    if col0_Flag:\n",
    "        for i in range(row):\n",
    "            matrix[i][0] = 0\n",
    "    return matrix"
   ]
  },
  {
   "cell_type": "code",
   "execution_count": null,
   "metadata": {},
   "outputs": [],
   "source": [
    "def matrixZero(matrix):\n",
    "    row = len(matrix)\n",
    "    col = len(matrix[0])\n",
    "    row_set = set(row)\n",
    "    col_set = set(col)\n",
    "    for i in range(row):\n",
    "        for j in range(col):\n",
    "            if matrix[i][j] == 0:\n",
    "                row_set.add(i)\n",
    "                col_set.add(j)\n",
    "    for i in range(row):\n",
    "        for j in range(col):\n",
    "            if i in row_set or j in col_set:\n",
    "                matrix[i][j] = 0\n",
    "    return matrix"
   ]
  },
  {
   "cell_type": "code",
   "execution_count": null,
   "metadata": {},
   "outputs": [],
   "source": [
    "def quicksort(nums):\n",
    "    def partition(low, high):\n",
    "        pivot = nums[high]\n",
    "        i = low - 1\n",
    "        for j in range(low, high):\n",
    "            if nums[j] < pivot:\n",
    "                nums[i], nums[j] = nums[j], nums[i]\n",
    "        nums[i + 1], nums[high] = nums[high], nums[i + 1]\n",
    "        return i + 1\n",
    "    def quick(low, high):\n",
    "        if low < high:\n",
    "            pi = partition(low, high):\n",
    "            quick(low, pi - 1)\n",
    "            quick(pi + 1, high)\n",
    "    quick(0, len(nums) - 1)\n",
    "    return nums    "
   ]
  },
  {
   "cell_type": "code",
   "execution_count": null,
   "metadata": {},
   "outputs": [],
   "source": [
    "def luoxuan(matrix):\n",
    "    m, n = len(matrix), len(matrix[0])\n",
    "    top, bottom, left, right = 0, m - 1, 0, n - 1\n",
    "    ans = []\n",
    "    while left <= right and top <= bottom:\n",
    "        for j in range(left, right + 1):\n",
    "            ans.append(matrix[top][j])\n",
    "        top += 1\n",
    "        for i in range(top, bottom + 1):\n",
    "            ans.append(matrix[i][right])\n",
    "        right -= 1\n",
    "        if top <= bottom:\n",
    "            for j in range(right, left - 1, -1):\n",
    "                ans.append(matrix[bottom][j])\n",
    "            bottom -= 1\n",
    "        if left <= right:\n",
    "            for i in range(bottom, top - 1, -1):\n",
    "                ans.append(matrix[i][left])\n",
    "            left += 1\n",
    "    return ans \n",
    "    "
   ]
  },
  {
   "cell_type": "code",
   "execution_count": null,
   "metadata": {},
   "outputs": [],
   "source": [
    "def xuanzhuantuxiang(matrix):\n",
    "    n = len(matrix)\n",
    "    for i in range(n):\n",
    "        for j in range(i, n):\n",
    "            matrix[i][j], matrix[j][i] = matrix[j][i], matrix[i][j]\n",
    "    for i in range(n):\n",
    "        matrix[i].reverse()\n",
    "    return matrix"
   ]
  },
  {
   "cell_type": "code",
   "execution_count": null,
   "metadata": {},
   "outputs": [],
   "source": [
    "def searchMatrix(matrix):\n",
    "    n = len(matrix)\n",
    "    i, j = 0, n - 1\n",
    "    while i < n or j >= 0:\n",
    "        if matrix[i][j] == target:\n",
    "            return True\n",
    "        if matrix[i][j] > target:\n",
    "            j -= 1\n",
    "        else:\n",
    "            i += 1\n",
    "    return False"
   ]
  },
  {
   "cell_type": "code",
   "execution_count": null,
   "metadata": {},
   "outputs": [],
   "source": [
    "def xiangjiao(headA, headB):\n",
    "    if not headA or not headB:\n",
    "        return \n",
    "    p1 = headA\n",
    "    p2 = headB\n",
    "    while p1 != p2:\n",
    "        p1 = p1.next if p1 else headB\n",
    "        p2 = p2.next if p2 else headA\n",
    "    return p1"
   ]
  },
  {
   "cell_type": "code",
   "execution_count": null,
   "metadata": {},
   "outputs": [],
   "source": [
    "def reverse(head):\n",
    "    prev = None\n",
    "    cur = head\n",
    "    while cur:\n",
    "        temp = cur.next\n",
    "        cur.next = prev\n",
    "        prev = cur\n",
    "        cur = temp\n",
    "    return prev"
   ]
  },
  {
   "cell_type": "code",
   "execution_count": null,
   "metadata": {},
   "outputs": [],
   "source": [
    "def huiwen(head):\n",
    "    if not head or not head.next:\n",
    "        return \n",
    "    slow = fast = head\n",
    "    while fast and fast.next:\n",
    "        fast = fast.next.next\n",
    "        slow = slow.next\n",
    "    prev = None\n",
    "    while slow:\n",
    "        temp = slow.next\n",
    "        slow.next = prev\n",
    "        prev = slow\n",
    "        slow = temp\n",
    "    left, right = head, prev\n",
    "    while right:\n",
    "        if left.val != right.val:\n",
    "            return False\n",
    "        left = left.next\n",
    "        right = right.next\n",
    "    return True"
   ]
  },
  {
   "cell_type": "code",
   "execution_count": 5,
   "metadata": {},
   "outputs": [],
   "source": [
    "def huanxinglianbiao(head):\n",
    "    slow = fast = head\n",
    "    while fast and fast.next:\n",
    "        slow = slow.next\n",
    "        fast = fast.next.next\n",
    "        if slow is fast:\n",
    "            return True\n",
    "    return False"
   ]
  },
  {
   "cell_type": "code",
   "execution_count": 6,
   "metadata": {},
   "outputs": [],
   "source": [
    "def huan2(head):\n",
    "    slow = fast = head\n",
    "    while fast and fast.next:\n",
    "        slow = slow.next\n",
    "        fast = fast.next.next\n",
    "        if slow is fast:\n",
    "            while slow is not head:\n",
    "                slow = slow.next\n",
    "                head = head.next\n",
    "            return slow\n",
    "    return None\n",
    "    "
   ]
  },
  {
   "cell_type": "code",
   "execution_count": null,
   "metadata": {},
   "outputs": [],
   "source": [
    "def mergeList(l1, l2):\n",
    "    cur = dummy = ListNode()\n",
    "    while l1 and l2:\n",
    "        if l1.val < l2.val:\n",
    "            cur.next = l1\n",
    "            l1 = l1.next\n",
    "        else:\n",
    "            cur.next = l2\n",
    "            l2 = l2.next\n",
    "        cur = cur.next\n",
    "    cur.next = l1 or l2\n",
    "    return dummy.next\n",
    "    "
   ]
  },
  {
   "cell_type": "code",
   "execution_count": 1,
   "metadata": {},
   "outputs": [],
   "source": [
    "def twoSum(l1, l2):\n",
    "    cur = dummy = ListNode()\n",
    "    num = 0\n",
    "    while l1 or l2 or num:\n",
    "        val1 = l1.val if l1 else 0\n",
    "        val2 = l2.val if l2 else 0\n",
    "        total = val1 + val2 + num\n",
    "        num = total // 10\n",
    "        total = total % 10\n",
    "        cur.next = ListNode(total)\n",
    "        cur = cur.next\n",
    "        if l1:\n",
    "            l1 = l1.next\n",
    "        if l2:\n",
    "            l2 = l2.next\n",
    "    return dummy.next\n"
   ]
  },
  {
   "cell_type": "code",
   "execution_count": null,
   "metadata": {},
   "outputs": [],
   "source": [
    "def deletek(head, n):\n",
    "    dummy = ListNode(next = head)\n",
    "    slow = fast = head\n",
    "    for i in range(n):\n",
    "        fast = fast.next\n",
    "    while fast and fast.next:\n",
    "        slow = slow.next\n",
    "        fast = fast.next.next\n",
    "    slow.next = slow.next.next\n",
    "    return dummy.next"
   ]
  },
  {
   "cell_type": "code",
   "execution_count": 2,
   "metadata": {},
   "outputs": [],
   "source": [
    "def changeNode(head):\n",
    "    prev = dummy = ListNode(next=head)\n",
    "    while prev.next and prev.next.next:\n",
    "        first = prev.next\n",
    "        second = prev.next.next\n",
    "\n",
    "        first.next = second.next\n",
    "        second.next = first\n",
    "        prev.next = second\n",
    "\n",
    "        prev = first\n",
    "\n",
    "    return dummy.next"
   ]
  },
  {
   "cell_type": "code",
   "execution_count": 3,
   "metadata": {},
   "outputs": [],
   "source": [
    "def KGroup(head, k):\n",
    "    prev = dummy = ListNode()\n",
    "    while True:\n",
    "        stack = []\n",
    "        cur = head\n",
    "        count = 0\n",
    "        while cur and count:\n",
    "            stack.append(cur)\n",
    "            cur = cur.next\n",
    "            count -= 1\n",
    "        if count:\n",
    "            prev.next = stack.pop()\n",
    "            prev = prev.next\n",
    "        prev.next = cur \n",
    "        head = cur\n",
    "    return dummy.next\n",
    "    "
   ]
  },
  {
   "cell_type": "code",
   "execution_count": 7,
   "metadata": {},
   "outputs": [
    {
     "data": {
      "text/plain": [
       "[2, 3, 4, 5, 6, 9]"
      ]
     },
     "execution_count": 7,
     "metadata": {},
     "output_type": "execute_result"
    }
   ],
   "source": [
    "def quicksort(nums):\n",
    "    def partition(low, high):\n",
    "        pivot = nums[high]\n",
    "        i = low - 1\n",
    "        for j in range(low, high):\n",
    "            if nums[j] < pivot:\n",
    "                i += 1\n",
    "                nums[i], nums[j] = nums[j], nums[i]\n",
    "        nums[high], nums[i + 1] = nums[i + 1], nums[high]\n",
    "        return i + 1\n",
    "    def quick(low, high):\n",
    "        if low < high:\n",
    "            pi = partition(low, high)\n",
    "            quick(low, pi - 1)\n",
    "            quick(pi + 1, high)\n",
    "    quick(0, len(nums) -1)\n",
    "    return nums\n",
    "nums = [9,6,4,5,3,2]\n",
    "quicksort(nums)"
   ]
  },
  {
   "cell_type": "code",
   "execution_count": 8,
   "metadata": {},
   "outputs": [],
   "source": [
    "def sortList(head):\n",
    "    def merge(l1, l2):\n",
    "        prev = dummy = ListNode()\n",
    "        while l1 and l2:\n",
    "            if l1.val < l2.val:\n",
    "                cur.next = l1\n",
    "                l1 = l1.next\n",
    "            else:\n",
    "                cur.next = l2\n",
    "                l2 = l2.next\n",
    "            cur = cur.next\n",
    "            cur.next = l1 or l2\n",
    "        return dummy.next\n",
    "    def split(head):\n",
    "        slow, fast = head, head.next\n",
    "        while fast and fast.next:\n",
    "            slow = slow.next\n",
    "            fast = fast.next.next\n",
    "        mid = slow.next\n",
    "        slow.next = None\n",
    "        return mid\n",
    "    if not head or not head.next:\n",
    "        return head\n",
    "    mid = split(head)\n",
    "    left = split(head)\n",
    "    right = split(mid)\n",
    "    return merge(left, right)"
   ]
  },
  {
   "cell_type": "code",
   "execution_count": null,
   "metadata": {},
   "outputs": [],
   "source": [
    "def mergeKList(lists):\n",
    "    pq = []\n",
    "    for i, l in enumerate(lists):\n",
    "        if l:\n",
    "            heapq.heappush(pq, (l.val, i, l))\n",
    "    cur = dummy = ListNode()\n",
    "    while pq:\n",
    "        val, idx, node = heapq.heappop(pq)\n",
    "        cur.next = node\n",
    "        cur = cur.next\n",
    "        if node.next:\n",
    "            heapq.heappush(pq, (node.next.val, idx, node))\n",
    "    return dummy.next"
   ]
  },
  {
   "cell_type": "code",
   "execution_count": null,
   "metadata": {},
   "outputs": [],
   "source": [
    "def inorder(root):\n",
    "    ans = []\n",
    "    def dfs(node):\n",
    "        if not node:\n",
    "            return \n",
    "        dfs(node.left)\n",
    "        ans.append(node.val)\n",
    "        dfs(node.right)\n",
    "    dfs(root)\n",
    "    return ans"
   ]
  },
  {
   "cell_type": "code",
   "execution_count": 2,
   "metadata": {},
   "outputs": [],
   "source": [
    "def dfs(root):\n",
    "    if not root:\n",
    "        return \n",
    "    l_depth = dfs(root.left)\n",
    "    r_depth = dfs(root.right)\n",
    "    return max(l_depth, r_depth) + 1\n",
    "    "
   ]
  },
  {
   "cell_type": "code",
   "execution_count": null,
   "metadata": {},
   "outputs": [],
   "source": [
    "def fanzhuan(root):\n",
    "    if not root:\n",
    "        return \n",
    "    queue = deque([root])\n",
    "    while queue:\n",
    "        n = len(queue):\n",
    "        for i in range(n):\n",
    "            node = queue.popleft()\n",
    "            node.left, node.right = node.right, node.left\n",
    "            if node.left:\n",
    "                queue.append(node.left)\n",
    "            if node.right:\n",
    "                queue.append(node.right)\n",
    "    return root"
   ]
  },
  {
   "cell_type": "code",
   "execution_count": 3,
   "metadata": {},
   "outputs": [],
   "source": [
    "def isSame(p, q):\n",
    "    if not p or not q:\n",
    "        return p is q\n",
    "    return p.val == q.val and isSame(p.left, q.right) and isSame(p.right, q.left)\n",
    "def duichen(root):\n",
    "    return isSame(root.left, root.right)"
   ]
  },
  {
   "cell_type": "code",
   "execution_count": null,
   "metadata": {},
   "outputs": [],
   "source": [
    "def zhijing(root):\n",
    "    ans = float(\"-inf\")\n",
    "    def dfs(node):\n",
    "        if not node:\n",
    "            return -1\n",
    "        l_len = dfs(node.left) + 1\n",
    "        r_len = dfs(node.right) + 1\n",
    "        ans = max(ans, l_len + r_len) \n",
    "        return max(l_len, r_len)\n",
    "    dfs(root)\n",
    "    return ans"
   ]
  },
  {
   "cell_type": "code",
   "execution_count": null,
   "metadata": {},
   "outputs": [],
   "source": [
    "def cengxu(root):\n",
    "    if not root:\n",
    "        return \n",
    "    queue = deque([root])\n",
    "    result = []\n",
    "    while queue:\n",
    "        n = len(queue)\n",
    "        level = []\n",
    "        for _ in range(n):\n",
    "            node = queue.popleft()\n",
    "            level.append(node.val)\n",
    "            if node.left:\n",
    "                queue.append(node.left)\n",
    "            if node.right:\n",
    "                queue.append(node.right)\n",
    "        result.append(level)\n",
    "    return result"
   ]
  },
  {
   "cell_type": "code",
   "execution_count": 4,
   "metadata": {},
   "outputs": [],
   "source": [
    "def dfs(left, right):\n",
    "    if left > right:\n",
    "        return\n",
    "    mid = (left + right) // 2\n",
    "    root = TreeNode(nums[mid])\n",
    "    root.left = dfs(left, mid - 1)\n",
    "    root.right = dfs(mid + 1, right)\n",
    "    return root"
   ]
  },
  {
   "cell_type": "code",
   "execution_count": null,
   "metadata": {},
   "outputs": [],
   "source": [
    "def validate(node, left, right):\n",
    "    if not node:\n",
    "        return True\n",
    "    if not (left < node.val < right):\n",
    "        return False\n",
    "    return validate(node.left, left, node.val) and validate(node.right, node.val, right)\n",
    "validate(root, float(\"-inf\"), float(\"inf\"))"
   ]
  },
  {
   "cell_type": "code",
   "execution_count": 5,
   "metadata": {},
   "outputs": [],
   "source": [
    "def ksmall(root, k):\n",
    "    stack = []\n",
    "    cur = root\n",
    "    while cur and stack:\n",
    "        while cur:\n",
    "            stack.append(cur)\n",
    "            cur = cur.left\n",
    "        cur = stack.pop()\n",
    "        k -= 1\n",
    "        if k == 0:\n",
    "            return cur.val\n",
    "        cur = cur.right\n",
    "    return -1"
   ]
  },
  {
   "cell_type": "code",
   "execution_count": 6,
   "metadata": {},
   "outputs": [],
   "source": [
    "def youshitu(node):\n",
    "    if not node:\n",
    "        return \n",
    "    queue = deque([node])\n",
    "    while queue:\n",
    "        n = len(queue)\n",
    "        for i in range(n):\n",
    "            node = queue.popleft()\n",
    "            if i == n - 1:\n",
    "                ans.append(node.val)\n",
    "            if node.left:\n",
    "                queue.append(node.left)\n",
    "            if node.right:\n",
    "                queue.append(node.right)\n",
    "    return ans "
   ]
  },
  {
   "cell_type": "code",
   "execution_count": 8,
   "metadata": {},
   "outputs": [],
   "source": [
    "def flatten(root):\n",
    "    if not root:\n",
    "        return \n",
    "    flatten(root.left)\n",
    "    flatten(root.right)\n",
    "    left = root.left\n",
    "    right = root.right\n",
    "    root.right = left\n",
    "    root.left = None\n",
    "    p = root\n",
    "    while p.right:\n",
    "        p = p.right\n",
    "    p.right = right\n",
    "    "
   ]
  },
  {
   "cell_type": "code",
   "execution_count": 1,
   "metadata": {},
   "outputs": [],
   "source": [
    "def buildTree(preorder, inorder):\n",
    "    root_val = preorder[0]\n",
    "    root = TreeNode(root_val)\n",
    "    mid = inorder.index(root_val)\n",
    "    root.left = buildTree(preorder[1:mid + 1], inorder[:mid + 1])\n",
    "    root.right = buildTree(preorder[mid + 1:], inorder[mid + 1:])\n",
    "    return root"
   ]
  },
  {
   "cell_type": "code",
   "execution_count": 2,
   "metadata": {},
   "outputs": [],
   "source": [
    "def buildTree(inorder, postorder):\n",
    "    root_val = postorder[-1]\n",
    "    root = TreeNode(root_val)\n",
    "    mid = inorder.index(root_val)\n",
    "    root.left = buildTree(inorder[:mid], postorder[:mid])\n",
    "    root.right = buildTree(inorder[mid + 1:], postorder[mid: -1])\n",
    "    return root"
   ]
  },
  {
   "cell_type": "code",
   "execution_count": null,
   "metadata": {},
   "outputs": [],
   "source": [
    "def ljzh(root, targetSum):\n",
    "    ans = []\n",
    "    def dfs(node, curpath, cursum):\n",
    "        if not node:\n",
    "            return \n",
    "        curpath += [node.val]\n",
    "        cursum += node.val\n",
    "        if not node.left and not node.right and cursum == targetSum:\n",
    "            ans.append(curpath)\n",
    "        dfs(node.left, curpath, cursum)\n",
    "        dfs(node.right, curpath, cursum)\n",
    "    dfs(root, [], 0)\n",
    "    return ans "
   ]
  },
  {
   "cell_type": "code",
   "execution_count": 1,
   "metadata": {},
   "outputs": [],
   "source": [
    "def ljzh(root, targetSum):\n",
    "    presum = defaultdict(int)\n",
    "    presum[0] = 1\n",
    "    count = 0\n",
    "    def dfs(node, cur_sum):\n",
    "        if not node:\n",
    "            return\n",
    "        nonlocal count\n",
    "        cur_sum += node.val\n",
    "        count += presum[cur_sum - targetSum]\n",
    "        presum[cursum] += 1\n",
    "        dfs(node.left, cur_sum)\n",
    "        dfs(node.right, cur_sum)\n",
    "        presum[cursum] -= 1\n",
    "    dfs(root, 0)\n",
    "    return count"
   ]
  },
  {
   "cell_type": "code",
   "execution_count": null,
   "metadata": {},
   "outputs": [],
   "source": [
    "def LCA(root, p, q):\n",
    "    if root in (None, p, q):\n",
    "        return root\n",
    "    left = LCA(root.left, p, q)\n",
    "    right = LCA(root.right, p, q)\n",
    "    if left and right:\n",
    "        return root\n",
    "    return left or right\n",
    "    "
   ]
  },
  {
   "cell_type": "code",
   "execution_count": 2,
   "metadata": {},
   "outputs": [],
   "source": [
    "def zuidalujinghe(root):\n",
    "    ans = float(\"-inf\")\n",
    "    def dfs(node):\n",
    "        nonlocal ans\n",
    "        if not node:\n",
    "            return\n",
    "        l_len = max(dfs(node.left), 0)\n",
    "        r_len = max(dfs(node.right), 0)\n",
    "        cur_path = l_len + r_len + node.val\n",
    "        ans = max(ans, cur_path)\n",
    "        return max(l_len, r_len) + node.val\n",
    "    dfs(root)\n",
    "    return ans"
   ]
  },
  {
   "cell_type": "code",
   "execution_count": 3,
   "metadata": {},
   "outputs": [
    {
     "data": {
      "text/plain": [
       "2"
      ]
     },
     "execution_count": 3,
     "metadata": {},
     "output_type": "execute_result"
    }
   ],
   "source": [
    "def daoyushuliang(grid):\n",
    "    row, col = len(grid), len(grid[0])\n",
    "    def dfs(i, j):\n",
    "        if i < 0 or i >= row or j < 0 or j >= col or grid[i][j] == \"0\":\n",
    "            return\n",
    "        grid[i][j] = \"0\"\n",
    "        dfs(i + 1, j)\n",
    "        dfs(i, j + 1)\n",
    "        dfs(i - 1, j)\n",
    "        dfs(i, j - 1)\n",
    "    count = 0\n",
    "    for i in range(row):\n",
    "        for j in range(col):\n",
    "            if grid[i][j] == \"1\":\n",
    "                dfs(i, j)\n",
    "                count += 1\n",
    "    return count\n",
    "\n",
    "grid = [[\"1\",\"0\",\"1\",\"1\"]]\n",
    "daoyushuliang(grid)"
   ]
  },
  {
   "cell_type": "code",
   "execution_count": null,
   "metadata": {},
   "outputs": [],
   "source": [
    "def juzi(grid):\n",
    "    row, col = len(grid), len(grid[0])\n",
    "    fresh_count = 0\n",
    "    queue = deque()\n",
    "    for i in range(row):\n",
    "        for j in range(col):\n",
    "            if grid[i][j] == 2:\n",
    "                queue.append((i, j))\n",
    "            elif grid[i][j] == 1:\n",
    "                fresh_count += 1\n",
    "    minute = 0\n",
    "    direction = [(-1, 0), (1, 0), (0, 1), (0, -1)]\n",
    "    while queue and fresh_count > 0:\n",
    "        minute += 1\n",
    "        for _ in range(len(queue)):\n",
    "            x, y = queue.popleft()\n",
    "            for dx, dy in direction:\n",
    "                nx, ny = x + dx, y + dy\n",
    "                if 0 <= nx < row and 0 <= ny < col and grid[nx][ny] == 1:\n",
    "                    grid[nx][ny] = 2\n",
    "                    fresh_count -= 1\n",
    "                    queue.append((nx, ny))\n",
    "    return minute\n"
   ]
  },
  {
   "cell_type": "code",
   "execution_count": null,
   "metadata": {},
   "outputs": [
    {
     "data": {
      "text/plain": [
       "True"
      ]
     },
     "execution_count": 1,
     "metadata": {},
     "output_type": "execute_result"
    }
   ],
   "source": [
    "def kcb(numCourses, prerequisites):\n",
    "    graph = [[] for _ in range(numCourses)]\n",
    "    for u, v in enumerate(prerequisites):\n",
    "        graph[u].append(v)\n",
    "    visited = [0] * numCourses\n",
    "    def hasCycle(node):\n",
    "        if visited[node] == 1:\n",
    "            return True\n",
    "        if visited[node] == 2:\n",
    "            return False\n",
    "        visited[node] = 1\n",
    "        for neighbor in graph[node]:\n",
    "            if hasCycle(neighbor):\n",
    "                return True\n",
    "        visited[node] = 2\n",
    "        return False\n",
    "    for i in range(numCourses):\n",
    "        if hasCycle(i):\n",
    "            return False\n",
    "    return True\n",
    "\n",
    "numCourses = 2\n",
    "prerequisites = [[1, 0]]\n",
    "kcb(numCourses, prerequisites)"
   ]
  },
  {
   "cell_type": "code",
   "execution_count": 5,
   "metadata": {},
   "outputs": [
    {
     "data": {
      "text/plain": [
       "[[1, 2, 3], [1, 3, 2], [2, 1, 3], [2, 3, 1], [3, 1, 2], [3, 2, 1]]"
      ]
     },
     "execution_count": 5,
     "metadata": {},
     "output_type": "execute_result"
    }
   ],
   "source": [
    "def quanpailie(nums):\n",
    "    ans = []\n",
    "    n = len(nums)\n",
    "    used = [False] * n\n",
    "    def dfs(path):\n",
    "        if len(path) == n:\n",
    "            ans.append(path.copy())\n",
    "            return \n",
    "        for i in range(n):\n",
    "            if not used[i]:\n",
    "                used[i] = True\n",
    "                path.append(nums[i])\n",
    "                dfs(path)\n",
    "                path.pop()\n",
    "                used[i] = False\n",
    "    dfs([])\n",
    "    return ans\n",
    "quanpailie([1,2,3])"
   ]
  },
  {
   "cell_type": "code",
   "execution_count": 8,
   "metadata": {},
   "outputs": [
    {
     "data": {
      "text/plain": [
       "[[2, 2, 3], [2, 3, 2], [3, 2, 2]]"
      ]
     },
     "execution_count": 8,
     "metadata": {},
     "output_type": "execute_result"
    }
   ],
   "source": [
    "def quanpailie(nums):\n",
    "    ans = []\n",
    "    n = len(nums)\n",
    "    used = [False] * n  \n",
    "    nums.sort()\n",
    "    def dfs(path):\n",
    "        if len(path) == n:\n",
    "            ans.append(path.copy())\n",
    "            return \n",
    "        for i in range(n):\n",
    "            if used[i]:\n",
    "                continue\n",
    "            if i > 0 and nums[i] == nums[i - 1] and  not used[i - 1]:\n",
    "                continue\n",
    "            used[i] = True\n",
    "            path.append(nums[i])\n",
    "            dfs(path)\n",
    "            path.pop()\n",
    "            used[i] = False\n",
    "    dfs([])\n",
    "    return ans\n",
    "quanpailie([2,2,3])"
   ]
  },
  {
   "cell_type": "code",
   "execution_count": 12,
   "metadata": {},
   "outputs": [
    {
     "data": {
      "text/plain": [
       "[[], [3], [2], [2, 3], [1], [1, 3], [1, 2], [1, 2, 3]]"
      ]
     },
     "execution_count": 12,
     "metadata": {},
     "output_type": "execute_result"
    }
   ],
   "source": [
    "def ziji(nums):\n",
    "    n = len(nums)\n",
    "    ans = []\n",
    "    path = []\n",
    "    def dfs(i):\n",
    "        if i == n:\n",
    "            ans.append(path.copy())\n",
    "            return \n",
    "        dfs(i + 1)\n",
    "        path.append(nums[i])\n",
    "        dfs(i + 1)\n",
    "        path.pop()\n",
    "    dfs(0)\n",
    "    return ans \n",
    "nums=[1,2,3]\n",
    "ziji(nums)\n"
   ]
  },
  {
   "cell_type": "code",
   "execution_count": 18,
   "metadata": {},
   "outputs": [
    {
     "data": {
      "text/plain": [
       "[[1, 2], [1, 3], [1, 4], [2, 3], [2, 4], [3, 4]]"
      ]
     },
     "execution_count": 18,
     "metadata": {},
     "output_type": "execute_result"
    }
   ],
   "source": [
    "def combine(n, k):\n",
    "    ans = []\n",
    "    def backtrack(start, path):\n",
    "        if len(path) == k:\n",
    "            ans.append(path[:])\n",
    "            return\n",
    "        for i in range(start, n + 1):\n",
    "            path.append(i)\n",
    "            backtrack(i + 1, path)\n",
    "            path.pop()\n",
    "    backtrack(1, [])\n",
    "    return ans\n",
    "combine(4, 2)"
   ]
  },
  {
   "cell_type": "code",
   "execution_count": null,
   "metadata": {},
   "outputs": [
    {
     "data": {
      "text/plain": [
       "['ad', 'ae', 'af', 'bd', 'be', 'bf', 'cd', 'ce', 'cf']"
      ]
     },
     "execution_count": 20,
     "metadata": {},
     "output_type": "execute_result"
    }
   ],
   "source": [
    "def phone(digits):\n",
    "    Mapping = [\"\", \"\", \"abc\", \"def\", \"ghi\", \"jkl\", \"mno\", \"pqrs\", \"tuv\", \"wxyz\"]\n",
    "    ans = []\n",
    "    path = []\n",
    "    n = len(digits)\n",
    "    def dfs(i):\n",
    "        if i == n:\n",
    "            ans.append(\"\".join(path))\n",
    "            return\n",
    "        for c in Mapping[int(digits[i])]:\n",
    "            path.append(c)\n",
    "            dfs(i + 1)\n",
    "            path.pop()\n",
    "    dfs(0)\n",
    "    return ans"
   ]
  },
  {
   "cell_type": "code",
   "execution_count": null,
   "metadata": {},
   "outputs": [
    {
     "data": {
      "text/plain": [
       "[[7], [2, 2, 3]]"
      ]
     },
     "execution_count": 22,
     "metadata": {},
     "output_type": "execute_result"
    }
   ],
   "source": [
    "def zuhezonghe(candidates, target):\n",
    "    n = len(candidates)\n",
    "    path = []\n",
    "    ans = []\n",
    "    def dfs(i, left):\n",
    "        if left == 0:\n",
    "            ans.append(path[:])\n",
    "            return \n",
    "        if left < 0 or i == n:\n",
    "            return \n",
    "        dfs(i + 1, left)\n",
    "        path.append(candidates[i])\n",
    "        dfs(i, left - candidates[i])\n",
    "        path.pop()\n",
    "    dfs(0, target)\n",
    "    return ans"
   ]
  },
  {
   "cell_type": "code",
   "execution_count": 24,
   "metadata": {},
   "outputs": [
    {
     "data": {
      "text/plain": [
       "['(())', '()()']"
      ]
     },
     "execution_count": 24,
     "metadata": {},
     "output_type": "execute_result"
    }
   ],
   "source": [
    "def kuohao(n):\n",
    "    ans = []\n",
    "    path = []\n",
    "    def dfs(i, j):\n",
    "        if i < j or i > n:\n",
    "            return\n",
    "        if i == n and j == n:\n",
    "            ans.append(\"\".join(path))\n",
    "            return\n",
    "        path.append(\"(\")\n",
    "        dfs(i + 1, j)\n",
    "        path.pop()\n",
    "        path.append(\")\")\n",
    "        dfs(i, j + 1)\n",
    "        path.pop()\n",
    "    dfs(0, 0)\n",
    "    return ans\n",
    "kuohao(2)"
   ]
  },
  {
   "cell_type": "code",
   "execution_count": null,
   "metadata": {},
   "outputs": [
    {
     "data": {
      "text/plain": [
       "True"
      ]
     },
     "execution_count": 25,
     "metadata": {},
     "output_type": "execute_result"
    }
   ],
   "source": [
    "def danci(board, word):\n",
    "    m, n = len(board), len(board[0])\n",
    "    def dfs(i, j, k):\n",
    "        if board[i][j] != word[k]:\n",
    "            return False\n",
    "        if k == len(word) - 1:\n",
    "            return True\n",
    "        board[i][j] = \"\"\n",
    "        for x, y in (i + 1, j), (i - 1, j), (i, j + 1), (i, j - 1):\n",
    "            if 0 <= x < m and 0 <= y < n and dfs(x, y, k + 1):\n",
    "                return True\n",
    "        board[i][j] = word[k]\n",
    "        return False\n",
    "    return any(dfs(i, j, 0) for i in range(m) for j in range(n))\n"
   ]
  },
  {
   "cell_type": "code",
   "execution_count": 26,
   "metadata": {},
   "outputs": [
    {
     "data": {
      "text/plain": [
       "[['1', '2', '1'], ['121']]"
      ]
     },
     "execution_count": 26,
     "metadata": {},
     "output_type": "execute_result"
    }
   ],
   "source": [
    "def fengehuiwen(s):\n",
    "    ans = []\n",
    "    path = []\n",
    "    n = len(s)\n",
    "    def dfs(i):\n",
    "        if i == n:\n",
    "            ans.append(path[:])\n",
    "            return\n",
    "        for j in range(i, n):\n",
    "            t = s[i: j + 1]\n",
    "            if t == t[::-1]:\n",
    "                path.append(t)\n",
    "                dfs(j + 1)\n",
    "                path.pop()\n",
    "    dfs(0)\n",
    "    return ans\n",
    "fengehuiwen(\"121\")"
   ]
  },
  {
   "cell_type": "code",
   "execution_count": null,
   "metadata": {},
   "outputs": [],
   "source": [
    "def search(nums, target):\n",
    "    left, right = 0, len(nums) - 1\n",
    "    while left <= right:\n",
    "        mid = (left + right) // 2\n",
    "        if nums[mid] < target:\n",
    "            left = mid + 1\n",
    "        else:\n",
    "            right = mid - 1\n",
    "    return left"
   ]
  },
  {
   "cell_type": "code",
   "execution_count": null,
   "metadata": {},
   "outputs": [],
   "source": [
    "def isSmae(p, q):\n",
    "    if not p and not q:\n",
    "        return True\n",
    "    if not p or not q:\n",
    "        return False\n",
    "    return p.val == q.val and isSame(p.left, q.left) and isSame(p.right, q.right)\n",
    "\n",
    "def isSubTree(root, subroot):\n",
    "    if not root:\n",
    "        return False\n",
    "    if isSame(root, subroot):\n",
    "        return True\n",
    "    return isSubTree(root.left, subroot) or isSubTree(root.right, subroot)\n"
   ]
  },
  {
   "cell_type": "code",
   "execution_count": null,
   "metadata": {},
   "outputs": [],
   "source": [
    "def search(matrix, target):\n",
    "    n = len(matrix)\n",
    "    i, j = 0, n - 1\n",
    "    while i < n and j >= 0:\n",
    "        if matrix[i][j] == target:\n",
    "            return True\n",
    "        if matrix[i][j] > target:\n",
    "            j -= 1\n",
    "        else:\n",
    "            i += 1\n",
    "    return False\n"
   ]
  },
  {
   "cell_type": "code",
   "execution_count": 29,
   "metadata": {},
   "outputs": [
    {
     "data": {
      "text/plain": [
       "[1, 2, 3, 4, 5, 6, 7]"
      ]
     },
     "execution_count": 29,
     "metadata": {},
     "output_type": "execute_result"
    }
   ],
   "source": [
    "def quicksort(nums):\n",
    "    def partition(low, high):\n",
    "        pivot = nums[high]\n",
    "        i = low - 1\n",
    "        for j in range(low, high):\n",
    "            if nums[j] < pivot:\n",
    "                i += 1\n",
    "                nums[i], nums[j] = nums[j], nums[i]\n",
    "        nums[i + 1], nums[high] = nums[high], nums[i + 1]\n",
    "        return i + 1\n",
    "    \n",
    "    def quick(low, high):\n",
    "        if low < high:\n",
    "            pi = partition(low, high)\n",
    "            quick(low, pi - 1)\n",
    "            quick(pi + 1, high)\n",
    "\n",
    "    quick(0, len(nums) - 1)\n",
    "    return nums\n",
    "\n",
    "nums = [3,1,4,7,5,2,6]\n",
    "quicksort(nums)"
   ]
  },
  {
   "cell_type": "code",
   "execution_count": 30,
   "metadata": {},
   "outputs": [
    {
     "name": "stdout",
     "output_type": "stream",
     "text": [
      "[3, 4]\n"
     ]
    }
   ],
   "source": [
    "def search_bound(nums, target):\n",
    "    left, right = 0, len(nums) - 1\n",
    "    while left <= right:\n",
    "        mid = (left + right) // 2\n",
    "        if nums[mid] < target:\n",
    "            left = mid + 1\n",
    "        else:\n",
    "            right = mid - 1\n",
    "    return left\n",
    "\n",
    "def search(nums, target):\n",
    "    start = search_bound(nums, target)\n",
    "    if start == len(nums) or nums[start] != target:\n",
    "        return [-1, -1]\n",
    "    end = search_bound(nums, target + 1) - 1\n",
    "    return [start, end]\n",
    "\n",
    "nums = [5,7,7,8,8,10]\n",
    "target = 8\n",
    "print(search(nums, target))"
   ]
  },
  {
   "cell_type": "code",
   "execution_count": null,
   "metadata": {},
   "outputs": [],
   "source": [
    "def search(nums, target):\n",
    "    left, right = 0, len(nums) - 1\n",
    "    while left <= right:\n",
    "        mid = (left + right) // 2\n",
    "        if nums[mid] == target:\n",
    "            return mid\n",
    "        if nums[left] <= nums[mid]:\n",
    "            if nums[left] <= target < nums[mid]:\n",
    "                right = mid - 1\n",
    "            else:\n",
    "                left = mid + 1\n",
    "        else:\n",
    "            if nums[mid] <= target < nums[right]:\n",
    "                left = mid + 1\n",
    "            else:\n",
    "                right = mid - 1\n",
    "    return -1"
   ]
  },
  {
   "cell_type": "code",
   "execution_count": 32,
   "metadata": {},
   "outputs": [
    {
     "data": {
      "text/plain": [
       "1"
      ]
     },
     "execution_count": 32,
     "metadata": {},
     "output_type": "execute_result"
    }
   ],
   "source": [
    "def searchmin(nums):\n",
    "    left, right = 0, len(nums) - 1\n",
    "    while left <= right:\n",
    "        mid = (left + right) // 2\n",
    "        if nums[mid] > nums[-1]:\n",
    "            left = mid + 1\n",
    "        else:\n",
    "            right = mid - 1\n",
    "    return nums[left]\n",
    "nums = [3,4,5,1,2]\n",
    "searchmin(nums)"
   ]
  },
  {
   "cell_type": "code",
   "execution_count": 34,
   "metadata": {},
   "outputs": [],
   "source": [
    "def youxiaokuohao(s):\n",
    "    if len(s) % 2 != 0:\n",
    "        return False\n",
    "    stack = []\n",
    "    mp = {\"}\": \"{\", \"]\": \"[\", \")\": \"(\"}\n",
    "    for c in s:\n",
    "        if c not in stack:\n",
    "            stack.append(c)\n",
    "        elif not stack or mp[c] != stack.pop():\n",
    "            return False\n",
    "    return True"
   ]
  },
  {
   "cell_type": "code",
   "execution_count": 39,
   "metadata": {},
   "outputs": [
    {
     "data": {
      "text/plain": [
       "'aaabcbc'"
      ]
     },
     "execution_count": 39,
     "metadata": {},
     "output_type": "execute_result"
    }
   ],
   "source": [
    "def decode(s):\n",
    "    stack, result, multi = [], \"\", 0\n",
    "    for c in s:\n",
    "        if c == \"[\":\n",
    "            stack.append([multi, result])\n",
    "            multi, result = 0, \"\"\n",
    "        elif c == \"]\":\n",
    "            cur_multi, cur_result = stack.pop()\n",
    "            result = cur_result + cur_multi * result\n",
    "        elif \"0\" <= c <= \"9\":\n",
    "            multi = multi * 10 + int(c)\n",
    "        else:\n",
    "            result += c\n",
    "    return result\n",
    "s = \"3[a]2[bc]\"\n",
    "decode(s)\n"
   ]
  },
  {
   "cell_type": "code",
   "execution_count": 40,
   "metadata": {},
   "outputs": [],
   "source": [
    "def temper(temperatures):\n",
    "    n = len(temperatures)\n",
    "    stack = []\n",
    "    ans = [0] * n\n",
    "    for i in range(n - 1, -1, -1):\n",
    "        t = temperatures[i]\n",
    "        while stack and t >= temperatures[stack[-1]]:\n",
    "            stack.pop()\n",
    "        if stack:\n",
    "            ans[i] = stack[-1] - i\n",
    "        stack.append(i)\n",
    "    return ans"
   ]
  },
  {
   "cell_type": "code",
   "execution_count": 45,
   "metadata": {},
   "outputs": [
    {
     "data": {
      "text/plain": [
       "10"
      ]
     },
     "execution_count": 45,
     "metadata": {},
     "output_type": "execute_result"
    }
   ],
   "source": [
    "def maxjuxing(heights):\n",
    "    n = len(heights)\n",
    "    left = [0] * n\n",
    "    stack = []\n",
    "    for i, x in enumerate(heights):\n",
    "        while stack and x <= heights[stack[-1]]:\n",
    "            stack.pop()\n",
    "        if stack:\n",
    "            left[i] = stack[-1]\n",
    "        stack.append(i)\n",
    "    right = [n] * n\n",
    "    stack = []\n",
    "    for i in range(n - 1, -1, -1):\n",
    "        x = heights[i]\n",
    "        while stack and x <= heights[stack[-1]]:\n",
    "            stack.pop()\n",
    "        if stack:\n",
    "            right[i] = stack[-1]\n",
    "        stack.append(i)\n",
    "    ans = 0\n",
    "    for l, r, h in zip(left, right, heights):\n",
    "        ans = max(ans, (r - l - 1) * h)\n",
    "    return ans \n",
    "heights =  [2,1,5,6,2,3]\n",
    "maxjuxing(heights) "
   ]
  },
  {
   "cell_type": "code",
   "execution_count": null,
   "metadata": {},
   "outputs": [
    {
     "data": {
      "text/plain": [
       "4"
      ]
     },
     "execution_count": 75,
     "metadata": {},
     "output_type": "execute_result"
    }
   ],
   "source": [
    "def maxK(nums, k):\n",
    "    heap = []\n",
    "    for num in nums:\n",
    "        if len(heap) < k:\n",
    "            heap.append(num)\n",
    "            if len(heap) == k:\n",
    "                heap.sort(reverse=True)\n",
    "        else:\n",
    "            if num > heap[0]:\n",
    "                heap[0] = num\n",
    "                heap.sort()\n",
    "    return heap[0] if k <= len(nums) else -1\n",
    "nums = [1,4,5,6,66,666]\n",
    "k = 2\n",
    "maxK(nums, k)"
   ]
  },
  {
   "cell_type": "code",
   "execution_count": 64,
   "metadata": {},
   "outputs": [
    {
     "data": {
      "text/plain": [
       "66"
      ]
     },
     "execution_count": 64,
     "metadata": {},
     "output_type": "execute_result"
    }
   ],
   "source": [
    "import heapq\n",
    "def maxK(nums, k):\n",
    "    pq = []\n",
    "    for num in nums:\n",
    "        heapq.heappush(pq, num)\n",
    "        if len(pq) > k:\n",
    "            heapq.heappop(pq)\n",
    "    return pq[0]\n",
    "nums = [1,4,5,6,66,666]\n",
    "k = 2\n",
    "maxK(nums, k)"
   ]
  },
  {
   "cell_type": "code",
   "execution_count": 74,
   "metadata": {},
   "outputs": [
    {
     "data": {
      "text/plain": [
       "5"
      ]
     },
     "execution_count": 74,
     "metadata": {},
     "output_type": "execute_result"
    }
   ],
   "source": [
    "def minK(nums, k):\n",
    "    heap = []\n",
    "    for num in nums:\n",
    "        if len(heap) < k:\n",
    "            heap.append(num)\n",
    "            if len(heap) == k:\n",
    "                heap.sort(reverse=True)\n",
    "        else:\n",
    "            if num < heap[0]:\n",
    "                heap[0] = num\n",
    "                heap.sort()\n",
    "    return heap[0] if k <= len(nums) else -1\n",
    "nums = [1,4,5,6,66,666]\n",
    "k = 3\n",
    "minK(nums, k)"
   ]
  },
  {
   "cell_type": "code",
   "execution_count": null,
   "metadata": {},
   "outputs": [],
   "source": [
    "from collections import Counter\n",
    "def maxK(nums, k):\n",
    "    pq = []\n",
    "    val_to_ferq = Counter(nums)\n",
    "    for val, freq in val_to_ferq.items():\n",
    "        heapq.heappush(pq, (freq, val))\n",
    "        if len(pq) > k:\n",
    "            heapq.heappop(pq)\n",
    "    ans = []\n",
    "    while pq:\n",
    "        ans.append(heapq.heappop(pq)[1])\n",
    "    return ans"
   ]
  },
  {
   "cell_type": "code",
   "execution_count": 76,
   "metadata": {},
   "outputs": [
    {
     "data": {
      "text/plain": [
       "5"
      ]
     },
     "execution_count": 76,
     "metadata": {},
     "output_type": "execute_result"
    }
   ],
   "source": [
    "def buy(prices):\n",
    "    max_profit = 0\n",
    "    min_price = prices[0]\n",
    "    for price in prices[1:]:\n",
    "        max_profit = max(price - min_price, max_profit)\n",
    "        min_price = min(min_price, price)\n",
    "    return max_profit\n",
    "prices =  [7,1,5,3,6,4]\n",
    "buy(prices)"
   ]
  },
  {
   "cell_type": "code",
   "execution_count": 77,
   "metadata": {},
   "outputs": [
    {
     "data": {
      "text/plain": [
       "7"
      ]
     },
     "execution_count": 77,
     "metadata": {},
     "output_type": "execute_result"
    }
   ],
   "source": [
    "def buy(prices):\n",
    "    profit = 0\n",
    "    for i in range(1, len(prices)):\n",
    "        if prices[i] > prices[i - 1]:\n",
    "            profit += prices[i] - prices[i - 1]\n",
    "    return profit\n",
    "prices =  [7,1,5,3,6,4]\n",
    "buy(prices)"
   ]
  },
  {
   "cell_type": "code",
   "execution_count": 82,
   "metadata": {},
   "outputs": [
    {
     "data": {
      "text/plain": [
       "6"
      ]
     },
     "execution_count": 82,
     "metadata": {},
     "output_type": "execute_result"
    }
   ],
   "source": [
    "def maxProfit(prices):\n",
    "    buy1 = -prices[0]\n",
    "    sell1 = 0\n",
    "    buy2 = -float(\"inf\")\n",
    "    sell2 = 0\n",
    "    for price in prices[1:]:\n",
    "        sell2 = max(sell2, buy2 + price)\n",
    "        buy2 = max(buy2, sell1 - price)\n",
    "        sell1 = max(sell1, buy1 + price)\n",
    "        buy1 = max(buy1, 0 - price)\n",
    "    return max(sell1, sell2)\n",
    "prices = [3,3,5,0,0,3,1,4]\n",
    "maxProfit(prices)"
   ]
  },
  {
   "cell_type": "code",
   "execution_count": 84,
   "metadata": {},
   "outputs": [
    {
     "name": "stdout",
     "output_type": "stream",
     "text": [
      "False\n"
     ]
    }
   ],
   "source": [
    "def jump(nums):\n",
    "    mx = 0\n",
    "    for i in range(len(nums)):\n",
    "        if i > mx: return False\n",
    "        mx = max(mx, i + nums[i])\n",
    "    return True\n",
    "\n",
    "nums = [3,2,1,0,4]\n",
    "print(jump(nums))\n"
   ]
  },
  {
   "cell_type": "code",
   "execution_count": 85,
   "metadata": {},
   "outputs": [],
   "source": [
    "def jump2(nums):\n",
    "    cur = end = count = 0\n",
    "    for i in range(len(nums)-1):\n",
    "        cur = max(cur, i + nums[i])\n",
    "        if i == end:\n",
    "            end = cur\n",
    "            count += 1\n",
    "    return count\n"
   ]
  },
  {
   "cell_type": "code",
   "execution_count": 89,
   "metadata": {},
   "outputs": [
    {
     "data": {
      "text/plain": [
       "[8, 1]"
      ]
     },
     "execution_count": 89,
     "metadata": {},
     "output_type": "execute_result"
    }
   ],
   "source": [
    "def huafenqujian(s):\n",
    "    last = {c:i for i, c in enumerate(s)}\n",
    "    start = end = 0\n",
    "    ans = []\n",
    "    for i, c in enumerate(s):\n",
    "        end = max(end, last[c])\n",
    "        if i == end:\n",
    "            ans.append(end - start + 1)\n",
    "            start = i + 1\n",
    "    return ans\n",
    "s = \"ababcbacr\"\n",
    "huafenqujian(s)"
   ]
  },
  {
   "cell_type": "code",
   "execution_count": null,
   "metadata": {},
   "outputs": [
    {
     "data": {
      "text/plain": [
       "8"
      ]
     },
     "execution_count": 95,
     "metadata": {},
     "output_type": "execute_result"
    }
   ],
   "source": [
    "def palouti(n):\n",
    "    if n == 1:\n",
    "        return 1\n",
    "    if n == 2:\n",
    "        return 2\n",
    "    f0 = 1\n",
    "    f1 = 2\n",
    "    for _ in range(3, n + 1):\n",
    "        f0, f1 = f1, f0 + f1\n",
    "    return f1\n",
    "palouti(5)\n"
   ]
  },
  {
   "cell_type": "code",
   "execution_count": 97,
   "metadata": {},
   "outputs": [
    {
     "data": {
      "text/plain": [
       "4"
      ]
     },
     "execution_count": 97,
     "metadata": {},
     "output_type": "execute_result"
    }
   ],
   "source": [
    "def dajiajieshe(nums):\n",
    "    def dfs(i):\n",
    "        if i < 0:\n",
    "            return 0\n",
    "        return max(dfs(i - 1), dfs(i - 2) + nums[i])\n",
    "    return dfs(len(nums) - 1)\n",
    "nums = [1,2,3,1]\n",
    "dajiajieshe(nums)"
   ]
  },
  {
   "cell_type": "code",
   "execution_count": 100,
   "metadata": {},
   "outputs": [
    {
     "data": {
      "text/plain": [
       "3"
      ]
     },
     "execution_count": 100,
     "metadata": {},
     "output_type": "execute_result"
    }
   ],
   "source": [
    "def dfs(i, j):\n",
    "    if i == 0:\n",
    "        return float(\"inf\") if j else 0\n",
    "    if j < i * i:\n",
    "        return dfs(i - 1, j)\n",
    "    return min(dfs(i - 1, j), dfs(i, j - i * i) + 1)\n",
    "n = 12\n",
    "dfs(int(n ** 0.5), n)"
   ]
  },
  {
   "cell_type": "code",
   "execution_count": 102,
   "metadata": {},
   "outputs": [
    {
     "data": {
      "text/plain": [
       "3"
      ]
     },
     "execution_count": 102,
     "metadata": {},
     "output_type": "execute_result"
    }
   ],
   "source": [
    "def change(coins, amount):\n",
    "    def dfs(i, c):\n",
    "        if i < 0:\n",
    "            return 0 if c == 0 else float('inf')\n",
    "        if c < coins[i]:\n",
    "            return dfs(i - 1, c)\n",
    "        return min(dfs(i - 1, c), dfs(i, c - coins[i]) + 1)\n",
    "    ans = dfs(len(coins) - 1, amount)\n",
    "    return ans if ans < float(\"inf\") else -1\n",
    "change([1,2,5], 11) "
   ]
  },
  {
   "cell_type": "code",
   "execution_count": 104,
   "metadata": {},
   "outputs": [
    {
     "name": "stdout",
     "output_type": "stream",
     "text": [
      "True\n"
     ]
    }
   ],
   "source": [
    "def wordBreak(s, wordDict):\n",
    "    max_len = max(map(len, wordDict))\n",
    "    word_set = set(wordDict)\n",
    "    def dfs(i):\n",
    "        if i == len(s):\n",
    "            return True\n",
    "        for j in range(i + 1, min(len(s) + 1, i + max_len + 1)):\n",
    "            if s[i: j] in word_set and dfs(j):\n",
    "                return True\n",
    "        return False\n",
    "    return dfs(0)\n",
    "s =  \"leetcode\"\n",
    "wordDict = [\"leet\", \"code\"]\n",
    "print(wordBreak(s, wordDict))"
   ]
  },
  {
   "cell_type": "code",
   "execution_count": 2,
   "metadata": {},
   "outputs": [
    {
     "data": {
      "text/plain": [
       "4"
      ]
     },
     "execution_count": 2,
     "metadata": {},
     "output_type": "execute_result"
    }
   ],
   "source": [
    "def maxzixulie(nums):\n",
    "    def dfs(i):\n",
    "        ans = 0\n",
    "        for j in range(i):\n",
    "            if nums[j] < nums[i]:\n",
    "                ans = max(ans, dfs(j))\n",
    "        return ans + 1\n",
    "    return max(dfs(i) for i in range(len(nums)))\n",
    "nums = [1,3,2,3,2,4]\n",
    "maxzixulie(nums)"
   ]
  },
  {
   "cell_type": "code",
   "execution_count": 3,
   "metadata": {},
   "outputs": [
    {
     "data": {
      "text/plain": [
       "4"
      ]
     },
     "execution_count": 3,
     "metadata": {},
     "output_type": "execute_result"
    }
   ],
   "source": [
    "def maxzixulie(nums):\n",
    "    n = len(nums)\n",
    "    dp = [1] * n\n",
    "    for i in range(n):\n",
    "        for j in range(i):\n",
    "            if nums[j] < nums[i]:\n",
    "                dp[i] = max(dp[i], dp[j] + 1)\n",
    "    return max(dp)\n",
    "nums = [1,3,2,3,2,4]\n",
    "maxzixulie(nums)"
   ]
  },
  {
   "cell_type": "code",
   "execution_count": null,
   "metadata": {},
   "outputs": [],
   "source": [
    "def chengjizuida(nums):\n",
    "    ans = float(\"-inf\")\n",
    "    f_max = f_min = 1\n",
    "    for x in nums:\n",
    "        f_max, f_min = max(f_max * x, f_min * x, x), min(f_max * x, f_min * x, x)\n",
    "        ans = max(ans, f_max)\n",
    "    return ans"
   ]
  },
  {
   "cell_type": "code",
   "execution_count": 4,
   "metadata": {},
   "outputs": [
    {
     "name": "stdout",
     "output_type": "stream",
     "text": [
      "False\n"
     ]
    }
   ],
   "source": [
    "def denghe(nums):\n",
    "    n = len(nums)\n",
    "    target = sum(nums) // 2\n",
    "    if sum(nums) % 2 != 0:\n",
    "        return False\n",
    "    def dfs(i, cur):\n",
    "        if i < 0:\n",
    "            return \n",
    "        return cur >= nums[i] and dfs(i - 1, cur - nums[i]) or dfs(i - 1, cur)\n",
    "    return dfs(n - 1, target)\n",
    "nums =  [1,3,2,3,2,4]\n",
    "print(denghe(nums))"
   ]
  },
  {
   "cell_type": "code",
   "execution_count": 5,
   "metadata": {},
   "outputs": [
    {
     "name": "stdout",
     "output_type": "stream",
     "text": [
      "4\n"
     ]
    }
   ],
   "source": [
    "def maxkuohao(s):\n",
    "    n = len(s)\n",
    "    stack = [-1]\n",
    "    ans = 0\n",
    "    for i in range(n):\n",
    "        if s[i] == \"(\":\n",
    "            stack.append(i)\n",
    "        else:\n",
    "            if stack[-1] == -1 or s[stack[-1]] == \")\":\n",
    "                stack.append(i)\n",
    "            else:\n",
    "                stack.pop()\n",
    "                ans = max(ans, i - stack[-1])\n",
    "    return ans\n",
    "s = \"(()))\"\n",
    "print(maxkuohao(s))"
   ]
  },
  {
   "cell_type": "code",
   "execution_count": null,
   "metadata": {},
   "outputs": [],
   "source": [
    "def lujing(m, n):\n",
    "    dp = [[0] * n for _ in range(m)]\n",
    "    for i in range(m):\n",
    "        dp[i][0] = 1\n",
    "    for j in range(n):\n",
    "        dp[0][j] = 1\n",
    "    for i in range(1, m):\n",
    "        for j in range(1, n):\n",
    "            dp[i][j] = dp[i - 1][j] + dp[i][j - 1]\n",
    "    return dp[m - 1][n - 1]\n"
   ]
  },
  {
   "cell_type": "code",
   "execution_count": null,
   "metadata": {},
   "outputs": [],
   "source": [
    "def minPath(grid):\n",
    "    m, n = len(grid), len(grid[0])\n",
    "    for i in range(1, m):\n",
    "        grid[i][0] += grid[i - 1][0]\n",
    "    for j in range(1, n):\n",
    "        grid[0][j] += grid[0][j - 1]\n",
    "    for i in range(1, m):\n",
    "        for j in range(1, n):\n",
    "            grid[i][j] = min(grid[i - 1][j], grid[i][j - 1])\n",
    "    return grid[m - 1][n - 1]\n"
   ]
  },
  {
   "cell_type": "code",
   "execution_count": 6,
   "metadata": {},
   "outputs": [
    {
     "name": "stdout",
     "output_type": "stream",
     "text": [
      "aba\n"
     ]
    }
   ],
   "source": [
    "def expand(s, i, j):\n",
    "    while i >= 0 and j < len(s) and s[i] == s[j]:\n",
    "        i -= 1\n",
    "        j += 1\n",
    "    return j - i - 1\n",
    "def maxzichuan(s):\n",
    "    start = end = 0\n",
    "    for i in range(len(s)):\n",
    "        len1 = expand(s, i, i)\n",
    "        len2 = expand(s, i, i + 1)\n",
    "        max_len = max(len1, len2)\n",
    "        if max_len > end - start:\n",
    "            start = i - (max_len - 1) // 2\n",
    "            end = i + max_len // 2\n",
    "    return s[start: end + 1]\n",
    "s = \"babad\"\n",
    "print(maxzichuan(s))"
   ]
  },
  {
   "cell_type": "code",
   "execution_count": null,
   "metadata": {},
   "outputs": [],
   "source": [
    "def zixulie(text1, text2):\n",
    "    m, n = len(text1), len(text2)\n",
    "    def dfs(i, j):\n",
    "        if i < 0 or j < 0:\n",
    "            return 0\n",
    "        if text1[i] == text2[j]:\n",
    "            return dfs(i - 1, j - 1) + 1\n",
    "        return min(dfs(i - 1, j), dfs(i, j - 1))\n",
    "    return dfs(m - 1, n - 1)\n"
   ]
  },
  {
   "cell_type": "code",
   "execution_count": 8,
   "metadata": {},
   "outputs": [
    {
     "name": "stdout",
     "output_type": "stream",
     "text": [
      "5\n"
     ]
    }
   ],
   "source": [
    "def bianji(word1, word2):\n",
    "    m, n = len(word1), len(word2)\n",
    "    def dfs(i, j):\n",
    "        if i < 0:\n",
    "            return j + 1\n",
    "        if j < 0:\n",
    "            return i + 1\n",
    "        if word1[i] == word2[j]:\n",
    "            return dfs(i - 1, j - 1)\n",
    "        return min(dfs(i - 1, j), dfs(i, j - 1), dfs(i - 1, j - 1)) + 1\n",
    "    return dfs(m - 1, n - 1)\n",
    "word1 = \"intention\"\n",
    "word2 = \"execution\"\n",
    "print(bianji(word1, word2))"
   ]
  },
  {
   "cell_type": "code",
   "execution_count": 9,
   "metadata": {},
   "outputs": [
    {
     "data": {
      "text/plain": [
       "1"
      ]
     },
     "execution_count": 9,
     "metadata": {},
     "output_type": "execute_result"
    }
   ],
   "source": [
    "from functools import reduce\n",
    "from operator import xor\n",
    "\n",
    "nums = [2, 2, 1]\n",
    "reduce(xor, nums)"
   ]
  },
  {
   "cell_type": "code",
   "execution_count": 11,
   "metadata": {},
   "outputs": [
    {
     "data": {
      "text/plain": [
       "2"
      ]
     },
     "execution_count": 11,
     "metadata": {},
     "output_type": "execute_result"
    }
   ],
   "source": [
    "def duoshu(nums):\n",
    "    vote = 0\n",
    "    for num in nums:\n",
    "        if vote == 0:\n",
    "            x = num\n",
    "        vote += 1 if x == num else -1\n",
    "    return x\n",
    "nums = [2,2,1]\n",
    "duoshu(nums)"
   ]
  },
  {
   "cell_type": "code",
   "execution_count": 13,
   "metadata": {},
   "outputs": [
    {
     "name": "stdout",
     "output_type": "stream",
     "text": [
      "[0, 0, 1, 1, 2, 2]\n"
     ]
    }
   ],
   "source": [
    "def yansefenlei(nums):\n",
    "    left, right, cur = 0, len(nums) - 1, 0\n",
    "    while cur <= right:\n",
    "        if nums[cur] == 0:\n",
    "            nums[left], nums[cur] = nums[cur], nums[left]\n",
    "            left += 1\n",
    "            cur += 1\n",
    "        elif nums[cur] == 2:\n",
    "            nums[right], nums[cur] = nums[cur], nums[right]\n",
    "            right -= 1\n",
    "        else:\n",
    "            cur += 1\n",
    "    return nums\n",
    "nums = [2, 0, 2, 1, 1, 0]\n",
    "print(yansefenlei(nums)) \n"
   ]
  },
  {
   "cell_type": "code",
   "execution_count": 17,
   "metadata": {},
   "outputs": [
    {
     "data": {
      "text/plain": [
       "[3, 1, 2]"
      ]
     },
     "execution_count": 17,
     "metadata": {},
     "output_type": "execute_result"
    }
   ],
   "source": [
    "def nextpailie(nums):\n",
    "    n = len(nums)\n",
    "    i = n - 2\n",
    "    while i >= 0 and nums[i] >= nums[i + 1]:\n",
    "        i -= 1\n",
    "    if i >= 0:\n",
    "        j = n - 1\n",
    "        while j >= 0 and nums[j] <= nums[i]:\n",
    "            j -= 1\n",
    "        nums[i], nums[j] = nums[j] , nums[i]\n",
    "    nums[i + 1:] = nums[i + 1:][::-1]\n",
    "    return nums\n",
    "nums = [2,3,1]\n",
    "nextpailie(nums)"
   ]
  },
  {
   "cell_type": "code",
   "execution_count": 18,
   "metadata": {},
   "outputs": [
    {
     "data": {
      "text/plain": [
       "1"
      ]
     },
     "execution_count": 18,
     "metadata": {},
     "output_type": "execute_result"
    }
   ],
   "source": [
    "def chongfushu(nums):\n",
    "    num_set = set()\n",
    "    for num in nums:\n",
    "        if num in num_set:\n",
    "            return num\n",
    "        num_set.add(num)\n",
    "    return -1\n",
    "nums = [1,0, 2,3,1]\n",
    "chongfushu(nums)"
   ]
  },
  {
   "cell_type": "code",
   "execution_count": 19,
   "metadata": {},
   "outputs": [
    {
     "data": {
      "text/plain": [
       "5"
      ]
     },
     "execution_count": 19,
     "metadata": {},
     "output_type": "execute_result"
    }
   ],
   "source": [
    "def queshi(nums):\n",
    "    nums.sort()\n",
    "    total = (nums[-1] - nums[0] + 1) * (nums[-1] + nums[0]) // 2\n",
    "    actual = sum(nums)\n",
    "    return total - actual\n",
    "nums = [1,0,2,3,6,4]\n",
    "queshi(nums)"
   ]
  },
  {
   "cell_type": "code",
   "execution_count": 20,
   "metadata": {},
   "outputs": [],
   "source": [
    "def maxArea(grid):\n",
    "    max_aera = 0\n",
    "    rows, cols = len(grid), len(grid[0])\n",
    "    visited = [[False for _ in range(cols)] for _ in range(rows)]\n",
    "    def dfs(r, c):\n",
    "        if r < 0 or r >= rows or c < 0 or c >= cols or visited[r][c] or grid[r][c] == 0:\n",
    "            return 0\n",
    "        visited[r][c] = True\n",
    "        return 1 + dfs(r + 1, c) + dfs(r - 1, c) + dfs(r, c + 1) + dfs(r, c - 1)\n",
    "    for i in range(rows):\n",
    "        for j in range(cols):\n",
    "            if grid[i][j] == 1 and not visited[i][j]:\n",
    "                cur_area = dfs(i, j)\n",
    "                max_aera = max(max_aera, cur_area)\n",
    "    return max_aera\n"
   ]
  },
  {
   "cell_type": "code",
   "execution_count": 25,
   "metadata": {},
   "outputs": [
    {
     "data": {
      "text/plain": [
       "False"
      ]
     },
     "execution_count": 25,
     "metadata": {},
     "output_type": "execute_result"
    }
   ],
   "source": [
    "def increase(nums):\n",
    "    first = second = float(\"inf\")\n",
    "    for num in nums:\n",
    "        if num <= first:\n",
    "            first = num\n",
    "        elif num <= second:\n",
    "            second = num\n",
    "        else:\n",
    "            return True\n",
    "    return False\n",
    "nums = [2,1,3]\n",
    "increase(nums)"
   ]
  },
  {
   "cell_type": "code",
   "execution_count": 26,
   "metadata": {},
   "outputs": [
    {
     "data": {
      "text/plain": [
       "[[2, 0, 0], [0, 4, 0], [0, 0, 6]]"
      ]
     },
     "execution_count": 26,
     "metadata": {},
     "output_type": "execute_result"
    }
   ],
   "source": [
    "def create_diag(diag_elem):\n",
    "    n = len(diag_elem)\n",
    "    matrix = [[0] * n for _ in range(n)]\n",
    "    for i in range(n):\n",
    "        matrix[i][i] = diag_elem[i]\n",
    "    return matrix\n",
    "nums = [2, 4, 6]\n",
    "create_diag(nums)"
   ]
  },
  {
   "cell_type": "code",
   "execution_count": null,
   "metadata": {},
   "outputs": [],
   "source": [
    "import torch.nn as nn\n",
    "import torch\n",
    "class MultiHeadAttention(nn.Module):\n",
    "    def __init__(self, d_model, n_heads):\n",
    "        super().__init__()\n",
    "        self.d_model = d_model\n",
    "        self.n_heads = n_heads\n",
    "        self.head_dim = d_model // n_heads\n",
    "\n",
    "        self.q_linear = nn.Linear(d_model, d_model)\n",
    "        self.k_linear = nn.Linear(d_model, d_model)\n",
    "        self.v_linear = nn.Linear(d_model, d_model)\n",
    "        self.softmax = nn.Softmax(dim=-1)\n",
    "        self.o_linear = nn.Linear(d_model, d_model)\n",
    "\n",
    "    def split_heads(self, x):\n",
    "        batch_size, seq_len, d_model = x.size()\n",
    "        x = x.view(batch_size, seq_len, self.n_heads, self.head_dim)\n",
    "        return x.permute(0, 2, 1, 3)\n",
    "\n",
    "    def forward(self, q, k, v, mask=None, past_key_values=None, use_cache=False):\n",
    "        q = self.split_heads(self.q_linear(q))\n",
    "        k = self.split_heads(self.k_linear(k))\n",
    "        v = self.split_heads(self.v_linear(v))\n",
    "        batch_size, q_seq_len, _ = q.shape\n",
    "        if past_key_values is not None:\n",
    "            past_key, past_value = past_key_values\n",
    "            k = torch.cat((past_key, k), dim=-2)\n",
    "            v = torch.cat((past_value, v), dim=-2)\n",
    "        new_past_key_values = (k, v) if use_cache else None\n",
    "        attn_score = torch.matmul(q, k.transpose(-2, -1)) / (self.head_dim ** 0.5)\n",
    "        if mask is not None:\n",
    "            attn_score = attn_score.masked_fill(mask == 0, -1e9)\n",
    "        attn_prob = self.softmax(attn_score)\n",
    "        attn_out = torch.matmul(attn_prob, v)\n",
    "        attn_out = attn_out.permute(0, 2, 1, 3).contiguous().view(batch_size, q_seq_len, self.d_model)\n",
    "        output = self.o_linear(attn_out)\n",
    "        return (output, new_past_key_values) if use_cache else output"
   ]
  },
  {
   "cell_type": "code",
   "execution_count": 4,
   "metadata": {},
   "outputs": [
    {
     "data": {
      "text/plain": [
       "[3, 3, 4, 4, 6, 6, 17, 21, 34, 65]"
      ]
     },
     "execution_count": 4,
     "metadata": {},
     "output_type": "execute_result"
    }
   ],
   "source": [
    "def quick_sort(nums):\n",
    "    def partition(low, high):\n",
    "        pivot = nums[high]\n",
    "        i = low - 1\n",
    "        for j in range(low, high):\n",
    "            if nums[j] < pivot:\n",
    "                i += 1\n",
    "                nums[i], nums[j] = nums[j], nums[i]\n",
    "        nums[i + 1], nums[high] = nums[high], nums[i + 1]\n",
    "        return i + 1\n",
    "    def quick(low, high):\n",
    "        if low < high:\n",
    "            pivot = partition(low, high)\n",
    "            quick(low, pivot - 1)\n",
    "            quick(pivot + 1, high)\n",
    "    quick(0, len(nums) - 1)\n",
    "    return nums\n",
    "nums = [6,4,21,6,34,4,65,3,17,3]\n",
    "quick_sort(nums)"
   ]
  },
  {
   "cell_type": "code",
   "execution_count": 8,
   "metadata": {},
   "outputs": [
    {
     "data": {
      "text/plain": [
       "3"
      ]
     },
     "execution_count": 8,
     "metadata": {},
     "output_type": "execute_result"
    }
   ],
   "source": [
    "def palouti(n):\n",
    "    f0 = 1\n",
    "    f1 = 2\n",
    "    for i in range(3, n + 1):\n",
    "        f0, f1 = f1, f0 + f1\n",
    "    return f1\n",
    "palouti(3)"
   ]
  },
  {
   "cell_type": "code",
   "execution_count": 9,
   "metadata": {},
   "outputs": [
    {
     "data": {
      "text/plain": [
       "22"
      ]
     },
     "execution_count": 9,
     "metadata": {},
     "output_type": "execute_result"
    }
   ],
   "source": [
    "def mincost(cost):\n",
    "    f0 = 0\n",
    "    f1 = 0\n",
    "    for i in range(2, len(cost) + 1):\n",
    "        temp = min(f1 + cost[i - 1], f0 + cost[i - 2])\n",
    "        f0 = f1\n",
    "        f1 = temp\n",
    "    return f1\n",
    "cost = [15, 20, 50, 2]\n",
    "mincost(cost)"
   ]
  },
  {
   "cell_type": "code",
   "execution_count": null,
   "metadata": {},
   "outputs": [],
   "source": [
    "def butonglujing(grid):\n",
    "    m = len(grid)\n",
    "    n = len(grid[0])\n",
    "    if grid[m - 1][n - 1] == 1"
   ]
  }
 ],
 "metadata": {
  "kernelspec": {
   "display_name": "hot",
   "language": "python",
   "name": "python3"
  },
  "language_info": {
   "codemirror_mode": {
    "name": "ipython",
    "version": 3
   },
   "file_extension": ".py",
   "mimetype": "text/x-python",
   "name": "python",
   "nbconvert_exporter": "python",
   "pygments_lexer": "ipython3",
   "version": "3.11.11"
  }
 },
 "nbformat": 4,
 "nbformat_minor": 2
}
