{
 "cells": [
  {
   "cell_type": "code",
   "execution_count": 5,
   "metadata": {},
   "outputs": [
    {
     "data": {
      "text/plain": [
       "[1, 2, 3, 4, 5, 6, 7, 8]"
      ]
     },
     "execution_count": 5,
     "metadata": {},
     "output_type": "execute_result"
    }
   ],
   "source": [
    "def quicksort(nums):\n",
    "    def partition(low, high):\n",
    "        pivot = nums[high]\n",
    "        i = low - 1\n",
    "        for j in range(low, high):\n",
    "            if nums[j] < pivot:\n",
    "                i += 1\n",
    "                nums[i], nums[j] = nums[j], nums[i]\n",
    "        nums[i + 1], nums[high] = nums[high], nums[i + 1]\n",
    "        return i + 1\n",
    "    def quick(low, high):\n",
    "        if low < high:\n",
    "            pi = partition(low, high)\n",
    "            quick(low, pi - 1)\n",
    "            quick(pi + 1, high)\n",
    "    quick(0, len(nums) - 1)\n",
    "    return nums    \n",
    "nums = [3,2,1,6,4,8,7,5]\n",
    "quicksort(nums)"
   ]
  },
  {
   "cell_type": "code",
   "execution_count": null,
   "metadata": {},
   "outputs": [],
   "source": []
  },
  {
   "cell_type": "code",
   "execution_count": null,
   "metadata": {},
   "outputs": [],
   "source": []
  },
  {
   "cell_type": "code",
   "execution_count": null,
   "metadata": {},
   "outputs": [],
   "source": []
  },
  {
   "cell_type": "code",
   "execution_count": null,
   "metadata": {},
   "outputs": [],
   "source": [
    "\n",
    "\n",
    "\n",
    "\n",
    "\n",
    "\n",
    "\n"
   ]
  },
  {
   "cell_type": "code",
   "execution_count": 1,
   "metadata": {},
   "outputs": [
    {
     "data": {
      "text/plain": [
       "[1, 2, 3, 5, 7, 9]"
      ]
     },
     "execution_count": 1,
     "metadata": {},
     "output_type": "execute_result"
    }
   ],
   "source": [
    "def quicksort(arr):\n",
    "    def partition(low, high):\n",
    "        pivot = arr[high]\n",
    "        i = low - 1\n",
    "        for j in range(low, high):\n",
    "            if arr[j] < pivot:\n",
    "                i += 1\n",
    "                arr[i], arr[j] = arr[j], arr[i]\n",
    "        arr[i + 1], arr[high] = arr[high], arr[i + 1]\n",
    "        return i + 1\n",
    "\n",
    "    def quick(low, high):\n",
    "        if low < high:\n",
    "            pi = partition(low, high)\n",
    "            quick(low, pi - 1)\n",
    "            quick(pi + 1, high)\n",
    "    \n",
    "    quick(0, len(arr) - 1)\n",
    "    return arr\n",
    "arr = [3, 1, 2, 9, 7, 5]\n",
    "quicksort(arr)"
   ]
  },
  {
   "cell_type": "code",
   "execution_count": null,
   "metadata": {},
   "outputs": [],
   "source": [
    "def twoSum(nums, target):\n",
    "    result = {}\n",
    "    for i, num in enumerate(nums):\n",
    "        if target - num in result:\n",
    "            return [result[target - num], i]\n",
    "        else:\n",
    "            result[num] = i\n",
    "            "
   ]
  },
  {
   "cell_type": "code",
   "execution_count": null,
   "metadata": {},
   "outputs": [],
   "source": [
    "def addtwonumbers(l1, l2):\n",
    "    cur = dummy = ListNode()\n",
    "    num = 0\n",
    "    while l1 or l2 or num:\n",
    "        val1 = l1.val if l1 else 0\n",
    "        val2 = l2.val if l2 else 0\n",
    "        total = val1 + val2 + num\n",
    "        num = total // 10\n",
    "        total = total % 10\n",
    "        cur.next = ListNode(total)\n",
    "        cur = cur.next\n",
    "        if l1:\n",
    "            l1 = l1.next\n",
    "        if l2:\n",
    "            l2 = l2.next\n",
    "    return dummy.next\n",
    "    "
   ]
  },
  {
   "cell_type": "code",
   "execution_count": null,
   "metadata": {},
   "outputs": [],
   "source": [
    "def maxzichuan(s):\n",
    "    window = set()\n",
    "    left = 0\n",
    "    ans  = 0\n",
    "    for right, c in enumerate(s):\n",
    "        while c in window:\n",
    "            window.remove(s[left])\n",
    "            left += 1\n",
    "        window.add(c)\n",
    "        ans = max(ans, right - left + 1)\n",
    "    return ans"
   ]
  },
  {
   "cell_type": "code",
   "execution_count": null,
   "metadata": {},
   "outputs": [],
   "source": [
    "def expand(s, i, j):\n",
    "    while i >= 0 and j < len(s) and s[l] == s[r]:\n",
    "        i -= 1\n",
    "        j += 1\n",
    "    return j - i - 1\n",
    "def huiwenzichuan(s):\n",
    "    start, end = 0, 0\n",
    "    for i in range(len(s)):\n",
    "        len1 = expand(s, i, i)\n",
    "        len2 = expand(s, i, i + 1)\n",
    "        max_len = max(len1, len2)\n",
    "        if max_len > end - start:\n",
    "            start = i - (max_len - 1) // 2\n",
    "            end = i + max_len // 2\n",
    "    return s[start: end + 1]"
   ]
  },
  {
   "cell_type": "code",
   "execution_count": 1,
   "metadata": {},
   "outputs": [],
   "source": [
    "def maxArea(height):\n",
    "    ans = 0\n",
    "    left, right = 0, len(height) - 1\n",
    "    while left < right:\n",
    "        cur = min(height[left], height[right])\n",
    "        ans = max(ans, cur)\n",
    "        if height[left] < height[right]:\n",
    "            left += 1\n",
    "        else:\n",
    "            right -= 1\n",
    "    return ans"
   ]
  },
  {
   "cell_type": "code",
   "execution_count": 3,
   "metadata": {},
   "outputs": [
    {
     "data": {
      "text/plain": [
       "[[-1, 0, 1]]"
      ]
     },
     "execution_count": 3,
     "metadata": {},
     "output_type": "execute_result"
    }
   ],
   "source": [
    "def threeSum(nums):\n",
    "    nums.sort()\n",
    "    result = []\n",
    "    n = len(nums)\n",
    "    for i in range(n):\n",
    "        if i > 0 and nums[i] == nums[i - 1]:\n",
    "            continue\n",
    "        left, right = i + 1, n - 1\n",
    "        while left < right:\n",
    "            total = nums[i] + nums[left] + nums[right]\n",
    "            if total > 0:\n",
    "                right -= 1\n",
    "            elif total < 0:\n",
    "                left += 1\n",
    "            else:\n",
    "                result.append([nums[i], nums[left], nums[right]])\n",
    "                while left < right and nums[left] == nums[left + 1]:\n",
    "                    left += 1\n",
    "                while left < right and nums[right] == nums[right - 1]:\n",
    "                    right -= 1\n",
    "                left += 1\n",
    "                right -= 1\n",
    "    return result\n",
    "nums = [1, 0, -1]\n",
    "threeSum(nums)\n",
    "                    "
   ]
  },
  {
   "cell_type": "code",
   "execution_count": 5,
   "metadata": {},
   "outputs": [
    {
     "data": {
      "text/plain": [
       "['ad', 'ae', 'af', 'bd', 'be', 'bf', 'cd', 'ce', 'cf']"
      ]
     },
     "execution_count": 5,
     "metadata": {},
     "output_type": "execute_result"
    }
   ],
   "source": [
    "def dianhua(digits):\n",
    "    MAPPING = \"\", \"\", \"abc\", \"def\", \"ghi\", \"jkl\", \"mno\", \"pqrs\", \"tuv\", \"wxyz\"\n",
    "    n = len(digits)\n",
    "    ans = []\n",
    "    path = [''] * n\n",
    "    if n == 0:\n",
    "        return []\n",
    "    def backtrack(i):\n",
    "        if i == n:\n",
    "            ans.append(''.join(path))\n",
    "            return \n",
    "        for c in MAPPING[int(digits[i])]:\n",
    "            path.append(c)\n",
    "            backtrack(i + 1)\n",
    "            path.pop()\n",
    "    backtrack(0)\n",
    "    return ans\n",
    "dianhua(\"23\")"
   ]
  },
  {
   "cell_type": "code",
   "execution_count": null,
   "metadata": {},
   "outputs": [
    {
     "data": {
      "text/plain": [
       "'120'"
      ]
     },
     "execution_count": 1,
     "metadata": {},
     "output_type": "execute_result"
    }
   ],
   "source": [
    "def addString(num1, num2):\n",
    "    res = \"\"\n",
    "    i, j = len(num1) - 1, len(num2) - 1\n",
    "    carry = 0\n",
    "    while i >= 0 or j >= 0:\n",
    "        n1 = int(num1[i]) if i >= 0 else 0\n",
    "        n2 = int(num2[j]) if j >= 0 else 0\n",
    "        tmp = n1 + n2 + carry\n",
    "        carry = tmp // 10\n",
    "        res = str(tmp % 10) + res\n",
    "        i, j = i - 1, j - 1\n",
    "    return \"1\" + res if carry else res\n",
    "num1 = \"111\"\n",
    "num2 = \"9\"\n",
    "addString(num1, num2)\n"
   ]
  },
  {
   "cell_type": "code",
   "execution_count": 2,
   "metadata": {},
   "outputs": [],
   "source": [
    "def removeNode(head, n):\n",
    "    dummy = ListNode()\n",
    "    dummy.next = head\n",
    "    slow = fast = dummy\n",
    "    for i in range(n + 1):\n",
    "        fast = fast.next\n",
    "    while fast:\n",
    "        fast = fast.next\n",
    "        slow = slow.next\n",
    "    slow.next = slow.next.next\n",
    "    return dummy.next\n",
    "    "
   ]
  },
  {
   "cell_type": "code",
   "execution_count": null,
   "metadata": {},
   "outputs": [
    {
     "data": {
      "text/plain": [
       "True"
      ]
     },
     "execution_count": 3,
     "metadata": {},
     "output_type": "execute_result"
    }
   ],
   "source": [
    "def isValid(s):\n",
    "    if len(s) % 2 != 0:\n",
    "        return False\n",
    "    stack = []\n",
    "    mp = {\"}\":\"{\", \"]\": \"[\", \")\": \"(\"}\n",
    "    for c in mp:\n",
    "        if c not in mp:\n",
    "            stack.append(c)\n",
    "        elif not stack or stack.pop() != mp[c]:\n",
    "            return False\n",
    "    return not stack\n",
    "s = \"({{}})\"\n",
    "isValid(s)"
   ]
  },
  {
   "cell_type": "code",
   "execution_count": null,
   "metadata": {},
   "outputs": [],
   "source": [
    "def mergeList(l1, l2):\n",
    "    cur = dummy = ListNode()\n",
    "    while l1 and l2:\n",
    "        if l1.val < l2.val:\n",
    "            cur.next = l1\n",
    "            l1 = l1.next\n",
    "        else:\n",
    "            cur.next = l2\n",
    "            l2 = l2.next\n",
    "        cur = cur.next\n",
    "    if l1:\n",
    "        l1 = l1.next\n",
    "    if l2:\n",
    "        l2 = l2.next\n",
    "    return dummy.next"
   ]
  },
  {
   "cell_type": "code",
   "execution_count": 2,
   "metadata": {},
   "outputs": [
    {
     "data": {
      "text/plain": [
       "['((()))', '(()())', '(())()', '()(())', '()()()']"
      ]
     },
     "execution_count": 2,
     "metadata": {},
     "output_type": "execute_result"
    }
   ],
   "source": [
    "def genkuohao(n):\n",
    "    ans, path = [], []\n",
    "    def dfs(i, j):\n",
    "        if i < j or i > n:\n",
    "            return \n",
    "        if i == n and j == n:\n",
    "            ans.append(''.join(path))\n",
    "            return \n",
    "        path.append(\"(\")\n",
    "        dfs(i + 1, j)\n",
    "        path.pop()\n",
    "        path.append(\")\")\n",
    "        dfs(i, j + 1)\n",
    "        path.pop()\n",
    "    dfs(0, 0)\n",
    "    return ans \n",
    "genkuohao(3)"
   ]
  },
  {
   "cell_type": "code",
   "execution_count": 1,
   "metadata": {},
   "outputs": [],
   "source": [
    "def mergeKList(lists):\n",
    "    pq = []\n",
    "    for i, l in enumerate(lists):\n",
    "        if l:\n",
    "            heapq.heappush(pq, (l.val, i, l))\n",
    "    cur = dummy = ListNode()\n",
    "    while pq:\n",
    "        val, idx, node = heapq.heappop(pq)\n",
    "        cur.next = node\n",
    "        cur = cur.next\n",
    "        if node.next:\n",
    "            heapq.heappush(pq, (node.next.val, idx, node.next))\n",
    "    return dummy.next"
   ]
  },
  {
   "cell_type": "code",
   "execution_count": null,
   "metadata": {},
   "outputs": [
    {
     "data": {
      "text/plain": [
       "[1, 2, 4, 3]"
      ]
     },
     "execution_count": 5,
     "metadata": {},
     "output_type": "execute_result"
    }
   ],
   "source": [
    "def nextpailie(nums):\n",
    "    n = len(nums)\n",
    "    i = n - 2\n",
    "    while i >= 0 and nums[i] >= nums[i + 1]:\n",
    "        i -= 1\n",
    "    if i >= 0:\n",
    "        j = n - 1\n",
    "        while j >= 0 and nums[j] < nums[i]:\n",
    "            j -= 1\n",
    "        nums[i], nums[j] = nums[j], nums[i]\n",
    "    nums[i + 1:] = nums[i + 1:][::-1]\n",
    "    "
   ]
  },
  {
   "cell_type": "code",
   "execution_count": 8,
   "metadata": {},
   "outputs": [],
   "source": [
    "def longkuohao(s):\n",
    "    stack = [-1]\n",
    "    n = len(s)\n",
    "    ans = 0\n",
    "    for i in range(n):\n",
    "        if s[i] == \"(\":\n",
    "            stack.append(i)\n",
    "        else:\n",
    "            if stack[-1] == -1 or s[stack[-1]] == \")\":\n",
    "                stack.append(i)\n",
    "            else:\n",
    "                stack.pop()\n",
    "                ans = max(ans, i - stack[-1])\n",
    "    return ans "
   ]
  },
  {
   "cell_type": "code",
   "execution_count": 9,
   "metadata": {},
   "outputs": [
    {
     "data": {
      "text/plain": [
       "1"
      ]
     },
     "execution_count": 9,
     "metadata": {},
     "output_type": "execute_result"
    }
   ],
   "source": [
    "def search(nums, target):\n",
    "    left, right = 0, len(nums) - 1\n",
    "    while left <= right:\n",
    "        mid = (left + right) // 2\n",
    "        if nums[mid] == target:\n",
    "            return mid\n",
    "        if nums[left] <= nums[mid]:\n",
    "            if nums[left] <= target < nums[mid]:\n",
    "                right = mid - 1\n",
    "            else:\n",
    "                left = mid + 1\n",
    "        else:\n",
    "            if nums[mid] <= target < nums[right]:\n",
    "                left = mid + 1\n",
    "            else:\n",
    "                right = mid - 1\n",
    "    return -1\n",
    "nums = [7,8,9,1,2,3]\n",
    "target = 8\n",
    "search(nums, target)"
   ]
  },
  {
   "cell_type": "code",
   "execution_count": 10,
   "metadata": {},
   "outputs": [],
   "source": [
    "def search_bound(nums, target):\n",
    "    left, right = 0, len(nums) - 1\n",
    "    while left <= right:\n",
    "        mid = (left + right) // 2\n",
    "        if nums[mid] < target:\n",
    "            left = mid + 1\n",
    "        else:\n",
    "            right = mid - 1\n",
    "    return left\n",
    "\n",
    "def search(nums, target):\n",
    "    start = search_bound(nums, target)\n",
    "    if start == len(nums) or nums[start] != target:\n",
    "        return [-1, -1]\n",
    "    end = search_bound(nums, target + 1) - 1\n",
    "    return [start, end]\n"
   ]
  },
  {
   "cell_type": "code",
   "execution_count": 2,
   "metadata": {},
   "outputs": [],
   "source": [
    "def zuhezonghe(candidates, target):\n",
    "    ans = []\n",
    "    path = []\n",
    "    def dfs(i, left):\n",
    "        if left == 0:\n",
    "            ans.append(path.copy())\n",
    "            return\n",
    "        if left < 0 or i == len(candidates):\n",
    "            return \n",
    "        dfs(i + 1, left)\n",
    "        path.append(candidates[i])\n",
    "        dfs(i, left - candidates[i])\n",
    "        path.pop()\n",
    "    dfs(0, target)\n",
    "    return ans"
   ]
  },
  {
   "cell_type": "code",
   "execution_count": null,
   "metadata": {},
   "outputs": [],
   "source": [
    "def sumK(nums, k):\n",
    "    pre_sum = defaultdict(int)\n",
    "    pre_sum[0] = 1\n",
    "    count = 0\n",
    "    cur_sum = 0\n",
    "    for num in nums:\n",
    "        cur_sum += num\n",
    "        count += presum[cur_sum - k]\n",
    "        pre_sum[cur_sum] += 1\n",
    "    return count"
   ]
  },
  {
   "cell_type": "code",
   "execution_count": 4,
   "metadata": {},
   "outputs": [],
   "source": [
    "def maxWindow(nums, k):\n",
    "    ans = []\n",
    "    queue = queue()\n",
    "    for i, num in enumerate(nums):\n",
    "        while queue and num > nums[queue[-1]]:\n",
    "            queue.pop()\n",
    "        queue.append(i)\n",
    "        if i - queue[0] > k:\n",
    "            queue.popleft()\n",
    "        if i == k - 1:\n",
    "            ans.append(nums[queue[0]])\n",
    "    return ans "
   ]
  },
  {
   "cell_type": "code",
   "execution_count": null,
   "metadata": {},
   "outputs": [],
   "source": [
    "def minzichuan(s, t):\n",
    "    s_count = Counter()\n",
    "    t_count = Counter(t)\n",
    "    left = 0\n",
    "    ans_left, ans_right = -1, len(s)\n",
    "    for right, c in enumerate(s):\n",
    "        s_count[c] += 1\n",
    "        while s_count > t_count:\n",
    "            if right - left < ans_right - ans_left:\n",
    "                ans_left, ans_right = left, right\n",
    "            s_count[c] -= 1\n",
    "            left += 1\n",
    "    return \"\" if ans_left < 0 else s[ans_left: ans_right + 1]\n",
    "     "
   ]
  },
  {
   "cell_type": "code",
   "execution_count": null,
   "metadata": {},
   "outputs": [],
   "source": [
    "def maxzishuzu(nums):\n",
    "    cur_sum = max_sum = nums[0]\n",
    "    for num in nums[1:]:\n",
    "        cur_sum = max(cur_sum + num, num)\n",
    "        max_sum = max(max_sum, cur_sum)\n",
    "    return max_sum"
   ]
  },
  {
   "cell_type": "code",
   "execution_count": null,
   "metadata": {},
   "outputs": [],
   "source": [
    "def mergearea(intervals):\n",
    "    intervals.sort(key = lambda x: x[0])\n",
    "    ans = []\n",
    "    for x in intervals:\n",
    "        if ans and x[0] <= ans[-1][1]:\n",
    "            ans[-1][1] = max(ans[-1][1], x[1])\n",
    "        else:\n",
    "            ans.append(x)\n",
    "    return ans"
   ]
  },
  {
   "cell_type": "code",
   "execution_count": null,
   "metadata": {},
   "outputs": [],
   "source": [
    "def lunzhuanshuzu(nums, k):\n",
    "    def exchange(i, j):\n",
    "        while i < j:\n",
    "            nums[i], nums[j] = nums[j], nums[i]\n",
    "            i += 1\n",
    "            j -= 1\n",
    "    n = len(nums)\n",
    "    k %= n\n",
    "    exchange(0, n - 1)\n",
    "    exchange(0, k - 1)\n",
    "    exchange(k, n - 1)\n",
    "    return nums\n",
    "    "
   ]
  },
  {
   "cell_type": "code",
   "execution_count": 1,
   "metadata": {},
   "outputs": [],
   "source": [
    "def chengji(nums):\n",
    "    n = len(nums)\n",
    "    suf = [1] * n\n",
    "    for i in range(n - 2, -1, -1):\n",
    "        suf[i] = suf[i + 1] * nums[i + 1]\n",
    "    pre = 1\n",
    "    for i, x in enumerate(nums):\n",
    "        suf[i] *= pre\n",
    "        pre *= x\n",
    "    return suf"
   ]
  },
  {
   "cell_type": "code",
   "execution_count": 4,
   "metadata": {},
   "outputs": [
    {
     "data": {
      "text/plain": [
       "4"
      ]
     },
     "execution_count": 4,
     "metadata": {},
     "output_type": "execute_result"
    }
   ],
   "source": [
    "def swap(nums, i, j):\n",
    "    nums[i], nums[j] = nums[j], nums[i]\n",
    "def findfirst(nums):\n",
    "    n = len(nums)\n",
    "    for i in range(n):\n",
    "        while 1 <= nums[i] <= n and nums[i] != nums[nums[i] - 1]:\n",
    "            swap(nums, i, nums[i] - 1)\n",
    "    for i in range(n + 1):\n",
    "        if nums[i] != i + 1:\n",
    "            return i + 1\n",
    "    return n + 1\n",
    "nums = [1,2,3,5]\n",
    "findfirst(nums)"
   ]
  },
  {
   "cell_type": "code",
   "execution_count": null,
   "metadata": {},
   "outputs": [],
   "source": [
    "def matrixZero(matrix):\n",
    "    row = len(matrix)\n",
    "    col = len(matrix[0])\n",
    "    row0_Flag = False\n",
    "    col0_Flag = False\n",
    "    for j in range(col):\n",
    "        if matrix[i][j] == 0:\n",
    "            row0_Flag = True\n",
    "            break\n",
    "    for i in range(row):\n",
    "        if matrix[i][j] == 0:\n",
    "            col0_Flag = True\n",
    "            break\n",
    "    for i in range(1, row):\n",
    "        for j in range(1, col):\n",
    "            if matrix[i][j] == 0:\n",
    "                matrix[i][0] = matrix[0][j] = 0\n",
    "    for i in range(1, row):\n",
    "        for j in range(1, col):\n",
    "            if matrix[i][0] == 0 or matrix[0][j] == 0:\n",
    "                matrix[i][j] = 0\n",
    "    if row0_Flag:\n",
    "        for j in range(col):\n",
    "            matrix[0][j] = 0\n",
    "    if col0_Flag:\n",
    "        for i in range(row):\n",
    "            matrix[i][0] = 0\n",
    "    return matrix"
   ]
  },
  {
   "cell_type": "code",
   "execution_count": null,
   "metadata": {},
   "outputs": [],
   "source": [
    "def matrixZero(matrix):\n",
    "    row = len(matrix)\n",
    "    col = len(matrix[0])\n",
    "    row_set = set(row)\n",
    "    col_set = set(col)\n",
    "    for i in range(row):\n",
    "        for j in range(col):\n",
    "            if matrix[i][j] == 0:\n",
    "                row_set.add(i)\n",
    "                col_set.add(j)\n",
    "    for i in range(row):\n",
    "        for j in range(col):\n",
    "            if i in row_set or j in col_set:\n",
    "                matrix[i][j] = 0\n",
    "    return matrix"
   ]
  },
  {
   "cell_type": "code",
   "execution_count": null,
   "metadata": {},
   "outputs": [],
   "source": [
    "def quicksort(nums):\n",
    "    def partition(low, high):\n",
    "        pivot = nums[high]\n",
    "        i = low - 1\n",
    "        for j in range(low, high):\n",
    "            if nums[j] < pivot:\n",
    "                nums[i], nums[j] = nums[j], nums[i]\n",
    "        nums[i + 1], nums[high] = nums[high], nums[i + 1]\n",
    "        return i + 1\n",
    "    def quick(low, high):\n",
    "        if low < high:\n",
    "            pi = partition(low, high):\n",
    "            quick(low, pi - 1)\n",
    "            quick(pi + 1, high)\n",
    "    quick(0, len(nums) - 1)\n",
    "    return nums    "
   ]
  },
  {
   "cell_type": "code",
   "execution_count": null,
   "metadata": {},
   "outputs": [],
   "source": [
    "def luoxuan(matrix):\n",
    "    m, n = len(matrix), len(matrix[0])\n",
    "    top, bottom, left, right = 0, m - 1, 0, n - 1\n",
    "    ans = []\n",
    "    while left <= right and top <= bottom:\n",
    "        for j in range(left, right + 1):\n",
    "            ans.append(matrix[top][j])\n",
    "        top += 1\n",
    "        for i in range(top, bottom + 1):\n",
    "            ans.append(matrix[i][right])\n",
    "        right -= 1\n",
    "        if top <= bottom:\n",
    "            for j in range(right, left - 1, -1):\n",
    "                ans.append(matrix[bottom][j])\n",
    "            bottom -= 1\n",
    "        if left <= right:\n",
    "            for i in range(bottom, top - 1, -1):\n",
    "                ans.append(matrix[i][left])\n",
    "            left += 1\n",
    "    return ans \n",
    "    "
   ]
  },
  {
   "cell_type": "code",
   "execution_count": null,
   "metadata": {},
   "outputs": [],
   "source": [
    "def xuanzhuantuxiang(matrix):\n",
    "    n = len(matrix)\n",
    "    for i in range(n):\n",
    "        for j in range(i, n):\n",
    "            matrix[i][j], matrix[j][i] = matrix[j][i], matrix[i][j]\n",
    "    for i in range(n):\n",
    "        matrix[i].reverse()\n",
    "    return matrix"
   ]
  },
  {
   "cell_type": "code",
   "execution_count": null,
   "metadata": {},
   "outputs": [],
   "source": [
    "def searchMatrix(matrix):\n",
    "    n = len(matrix)\n",
    "    i, j = 0, n - 1\n",
    "    while i < n or j >= 0:\n",
    "        if matrix[i][j] == target:\n",
    "            return True\n",
    "        if matrix[i][j] > target:\n",
    "            j -= 1\n",
    "        else:\n",
    "            i += 1\n",
    "    return False"
   ]
  },
  {
   "cell_type": "code",
   "execution_count": null,
   "metadata": {},
   "outputs": [],
   "source": [
    "def xiangjiao(headA, headB):\n",
    "    if not headA or not headB:\n",
    "        return \n",
    "    p1 = headA\n",
    "    p2 = headB\n",
    "    while p1 != p2:\n",
    "        p1 = p1.next if p1 else headB\n",
    "        p2 = p2.next if p2 else headA\n",
    "    return p1"
   ]
  },
  {
   "cell_type": "code",
   "execution_count": null,
   "metadata": {},
   "outputs": [],
   "source": [
    "def reverse(head):\n",
    "    prev = None\n",
    "    cur = head\n",
    "    while cur:\n",
    "        temp = cur.next\n",
    "        cur.next = prev\n",
    "        prev = cur\n",
    "        cur = temp\n",
    "    return prev"
   ]
  },
  {
   "cell_type": "code",
   "execution_count": null,
   "metadata": {},
   "outputs": [],
   "source": [
    "def huiwen(head):\n",
    "    if not head or not head.next:\n",
    "        return \n",
    "    slow = fast = head\n",
    "    while fast and fast.next:\n",
    "        fast = fast.next.next\n",
    "        slow = slow.next\n",
    "    prev = None\n",
    "    while slow:\n",
    "        temp = slow.next\n",
    "        slow.next = prev\n",
    "        prev = slow\n",
    "        slow = temp\n",
    "    left, right = head, prev\n",
    "    while right:\n",
    "        if left.val != right.val:\n",
    "            return False\n",
    "        left = left.next\n",
    "        right = right.next\n",
    "    return True"
   ]
  },
  {
   "cell_type": "code",
   "execution_count": 5,
   "metadata": {},
   "outputs": [],
   "source": [
    "def huanxinglianbiao(head):\n",
    "    slow = fast = head\n",
    "    while fast and fast.next:\n",
    "        slow = slow.next\n",
    "        fast = fast.next.next\n",
    "        if slow is fast:\n",
    "            return True\n",
    "    return False"
   ]
  },
  {
   "cell_type": "code",
   "execution_count": 6,
   "metadata": {},
   "outputs": [],
   "source": [
    "def huan2(head):\n",
    "    slow = fast = head\n",
    "    while fast and fast.next:\n",
    "        slow = slow.next\n",
    "        fast = fast.next.next\n",
    "        if slow is fast:\n",
    "            while slow is not head:\n",
    "                slow = slow.next\n",
    "                head = head.next\n",
    "            return slow\n",
    "    return None\n",
    "    "
   ]
  },
  {
   "cell_type": "code",
   "execution_count": null,
   "metadata": {},
   "outputs": [],
   "source": [
    "def mergeList(l1, l2):\n",
    "    cur = dummy = ListNode()\n",
    "    while l1 and l2:\n",
    "        if l1.val < l2.val:\n",
    "            cur.next = l1\n",
    "            l1 = l1.next\n",
    "        else:\n",
    "            cur.next = l2\n",
    "            l2 = l2.next\n",
    "        cur = cur.next\n",
    "    cur.next = l1 or l2\n",
    "    return dummy.next\n",
    "    "
   ]
  },
  {
   "cell_type": "code",
   "execution_count": 1,
   "metadata": {},
   "outputs": [],
   "source": [
    "def twoSum(l1, l2):\n",
    "    cur = dummy = ListNode()\n",
    "    num = 0\n",
    "    while l1 or l2 or num:\n",
    "        val1 = l1.val if l1 else 0\n",
    "        val2 = l2.val if l2 else 0\n",
    "        total = val1 + val2 + num\n",
    "        num = total // 10\n",
    "        total = total % 10\n",
    "        cur.next = ListNode(total)\n",
    "        cur = cur.next\n",
    "        if l1:\n",
    "            l1 = l1.next\n",
    "        if l2:\n",
    "            l2 = l2.next\n",
    "    return dummy.next\n"
   ]
  },
  {
   "cell_type": "code",
   "execution_count": null,
   "metadata": {},
   "outputs": [],
   "source": [
    "def deletek(head, n):\n",
    "    dummy = ListNode(next = head)\n",
    "    slow = fast = head\n",
    "    for i in range(n):\n",
    "        fast = fast.next\n",
    "    while fast and fast.next:\n",
    "        slow = slow.next\n",
    "        fast = fast.next.next\n",
    "    slow.next = slow.next.next\n",
    "    return dummy.next"
   ]
  },
  {
   "cell_type": "code",
   "execution_count": 2,
   "metadata": {},
   "outputs": [],
   "source": [
    "def changeNode(head):\n",
    "    prev = dummy = ListNode(next=head)\n",
    "    while prev.next and prev.next.next:\n",
    "        first = prev.next\n",
    "        second = prev.next.next\n",
    "\n",
    "        first.next = second.next\n",
    "        second.next = first\n",
    "        prev.next = second\n",
    "\n",
    "        prev = first\n",
    "\n",
    "    return dummy.next"
   ]
  },
  {
   "cell_type": "code",
   "execution_count": 3,
   "metadata": {},
   "outputs": [],
   "source": [
    "def KGroup(head, k):\n",
    "    prev = dummy = ListNode()\n",
    "    while True:\n",
    "        stack = []\n",
    "        cur = head\n",
    "        count = 0\n",
    "        while cur and count:\n",
    "            stack.append(cur)\n",
    "            cur = cur.next\n",
    "            count -= 1\n",
    "        if count:\n",
    "            prev.next = stack.pop()\n",
    "            prev = prev.next\n",
    "        prev.next = cur \n",
    "        head = cur\n",
    "    return dummy.next\n",
    "    "
   ]
  },
  {
   "cell_type": "code",
   "execution_count": 7,
   "metadata": {},
   "outputs": [
    {
     "data": {
      "text/plain": [
       "[2, 3, 4, 5, 6, 9]"
      ]
     },
     "execution_count": 7,
     "metadata": {},
     "output_type": "execute_result"
    }
   ],
   "source": [
    "def quicksort(nums):\n",
    "    def partition(low, high):\n",
    "        pivot = nums[high]\n",
    "        i = low - 1\n",
    "        for j in range(low, high):\n",
    "            if nums[j] < pivot:\n",
    "                i += 1\n",
    "                nums[i], nums[j] = nums[j], nums[i]\n",
    "        nums[high], nums[i + 1] = nums[i + 1], nums[high]\n",
    "        return i + 1\n",
    "    def quick(low, high):\n",
    "        if low < high:\n",
    "            pi = partition(low, high)\n",
    "            quick(low, pi - 1)\n",
    "            quick(pi + 1, high)\n",
    "    quick(0, len(nums) -1)\n",
    "    return nums\n",
    "nums = [9,6,4,5,3,2]\n",
    "quicksort(nums)"
   ]
  },
  {
   "cell_type": "code",
   "execution_count": 8,
   "metadata": {},
   "outputs": [],
   "source": [
    "def sortList(head):\n",
    "    def merge(l1, l2):\n",
    "        prev = dummy = ListNode()\n",
    "        while l1 and l2:\n",
    "            if l1.val < l2.val:\n",
    "                cur.next = l1\n",
    "                l1 = l1.next\n",
    "            else:\n",
    "                cur.next = l2\n",
    "                l2 = l2.next\n",
    "            cur = cur.next\n",
    "            cur.next = l1 or l2\n",
    "        return dummy.next\n",
    "    def split(head):\n",
    "        slow, fast = head, head.next\n",
    "        while fast and fast.next:\n",
    "            slow = slow.next\n",
    "            fast = fast.next.next\n",
    "        mid = slow.next\n",
    "        slow.next = None\n",
    "        return mid\n",
    "    if not head or not head.next:\n",
    "        return head\n",
    "    mid = split(head)\n",
    "    left = split(head)\n",
    "    right = split(mid)\n",
    "    return merge(left, right)"
   ]
  },
  {
   "cell_type": "code",
   "execution_count": null,
   "metadata": {},
   "outputs": [],
   "source": [
    "def mergeKList(lists):\n",
    "    pq = []\n",
    "    for i, l in enumerate(lists):\n",
    "        if l:\n",
    "            heapq.heappush(pq, (l.val, i, l))\n",
    "    cur = dummy = ListNode()\n",
    "    while pq:\n",
    "        val, idx, node = heapq.heappop(pq)\n",
    "        cur.next = node\n",
    "        cur = cur.next\n",
    "        if node.next:\n",
    "            heapq.heappush(pq, (node.next.val, idx, node))\n",
    "    return dummy.next"
   ]
  },
  {
   "cell_type": "code",
   "execution_count": null,
   "metadata": {},
   "outputs": [],
   "source": [
    "def inorder(root):\n",
    "    ans = []\n",
    "    def dfs(node):\n",
    "        if not node:\n",
    "            return \n",
    "        dfs(node.left)\n",
    "        ans.append(node.val)\n",
    "        dfs(node.right)\n",
    "    dfs(root)\n",
    "    return ans"
   ]
  },
  {
   "cell_type": "code",
   "execution_count": 2,
   "metadata": {},
   "outputs": [],
   "source": [
    "def dfs(root):\n",
    "    if not root:\n",
    "        return \n",
    "    l_depth = dfs(root.left)\n",
    "    r_depth = dfs(root.right)\n",
    "    return max(l_depth, r_depth) + 1\n",
    "    "
   ]
  },
  {
   "cell_type": "code",
   "execution_count": null,
   "metadata": {},
   "outputs": [],
   "source": [
    "def fanzhuan(root):\n",
    "    if not root:\n",
    "        return \n",
    "    queue = deque([root])\n",
    "    while queue:\n",
    "        n = len(queue):\n",
    "        for i in range(n):\n",
    "            node = queue.popleft()\n",
    "            node.left, node.right = node.right, node.left\n",
    "            if node.left:\n",
    "                queue.append(node.left)\n",
    "            if node.right:\n",
    "                queue.append(node.right)\n",
    "    return root"
   ]
  },
  {
   "cell_type": "code",
   "execution_count": 3,
   "metadata": {},
   "outputs": [],
   "source": [
    "def isSame(p, q):\n",
    "    if not p or not q:\n",
    "        return p is q\n",
    "    return p.val == q.val and isSame(p.left, q.right) and isSame(p.right, q.left)\n",
    "def duichen(root):\n",
    "    return isSame(root.left, root.right)"
   ]
  },
  {
   "cell_type": "code",
   "execution_count": null,
   "metadata": {},
   "outputs": [],
   "source": [
    "def zhijing(root):\n",
    "    ans = float(\"-inf\")\n",
    "    def dfs(node):\n",
    "        if not node:\n",
    "            return -1\n",
    "        l_len = dfs(node.left) + 1\n",
    "        r_len = dfs(node.right) + 1\n",
    "        ans = max(ans, l_len + r_len) \n",
    "        return max(l_len, r_len)\n",
    "    dfs(root)\n",
    "    return ans"
   ]
  },
  {
   "cell_type": "code",
   "execution_count": null,
   "metadata": {},
   "outputs": [],
   "source": [
    "def cengxu(root):\n",
    "    if not root:\n",
    "        return \n",
    "    queue = deque([root])\n",
    "    result = []\n",
    "    while queue:\n",
    "        n = len(queue)\n",
    "        level = []\n",
    "        for _ in range(n):\n",
    "            node = queue.popleft()\n",
    "            level.append(node.val)\n",
    "            if node.left:\n",
    "                queue.append(node.left)\n",
    "            if node.right:\n",
    "                queue.append(node.right)\n",
    "        result.append(level)\n",
    "    return result"
   ]
  },
  {
   "cell_type": "code",
   "execution_count": 4,
   "metadata": {},
   "outputs": [],
   "source": [
    "def dfs(left, right):\n",
    "    if left > right:\n",
    "        return\n",
    "    mid = (left + right) // 2\n",
    "    root = TreeNode(nums[mid])\n",
    "    root.left = dfs(left, mid - 1)\n",
    "    root.right = dfs(mid + 1, right)\n",
    "    return root"
   ]
  },
  {
   "cell_type": "code",
   "execution_count": null,
   "metadata": {},
   "outputs": [],
   "source": [
    "def validate(node, left, right):\n",
    "    if not node:\n",
    "        return True\n",
    "    if not (left < node.val < right):\n",
    "        return False\n",
    "    return validate(node.left, left, node.val) and validate(node.right, node.val, right)\n",
    "validate(root, float(\"-inf\"), float(\"inf\"))"
   ]
  },
  {
   "cell_type": "code",
   "execution_count": 5,
   "metadata": {},
   "outputs": [],
   "source": [
    "def ksmall(root, k):\n",
    "    stack = []\n",
    "    cur = root\n",
    "    while cur and stack:\n",
    "        while cur:\n",
    "            stack.append(cur)\n",
    "            cur = cur.left\n",
    "        cur = stack.pop()\n",
    "        k -= 1\n",
    "        if k == 0:\n",
    "            return cur.val\n",
    "        cur = cur.right\n",
    "    return -1"
   ]
  },
  {
   "cell_type": "code",
   "execution_count": 6,
   "metadata": {},
   "outputs": [],
   "source": [
    "def youshitu(node):\n",
    "    if not node:\n",
    "        return \n",
    "    queue = deque([node])\n",
    "    while queue:\n",
    "        n = len(queue)\n",
    "        for i in range(n):\n",
    "            node = queue.popleft()\n",
    "            if i == n - 1:\n",
    "                ans.append(node.val)\n",
    "            if node.left:\n",
    "                queue.append(node.left)\n",
    "            if node.right:\n",
    "                queue.append(node.right)\n",
    "    return ans "
   ]
  },
  {
   "cell_type": "code",
   "execution_count": 8,
   "metadata": {},
   "outputs": [],
   "source": [
    "def flatten(root):\n",
    "    if not root:\n",
    "        return \n",
    "    flatten(root.left)\n",
    "    flatten(root.right)\n",
    "    left = root.left\n",
    "    right = root.right\n",
    "    root.right = left\n",
    "    root.left = None\n",
    "    p = root\n",
    "    while p.right:\n",
    "        p = p.right\n",
    "    p.right = right\n",
    "    "
   ]
  },
  {
   "cell_type": "code",
   "execution_count": 1,
   "metadata": {},
   "outputs": [],
   "source": [
    "def buildTree(preorder, inorder):\n",
    "    root_val = preorder[0]\n",
    "    root = TreeNode(root_val)\n",
    "    mid = inorder.index(root_val)\n",
    "    root.left = buildTree(preorder[1:mid + 1], inorder[:mid + 1])\n",
    "    root.right = buildTree(preorder[mid + 1:], inorder[mid + 1:])\n",
    "    return root"
   ]
  },
  {
   "cell_type": "code",
   "execution_count": 2,
   "metadata": {},
   "outputs": [],
   "source": [
    "def buildTree(inorder, postorder):\n",
    "    root_val = postorder[-1]\n",
    "    root = TreeNode(root_val)\n",
    "    mid = inorder.index(root_val)\n",
    "    root.left = buildTree(inorder[:mid], postorder[:mid])\n",
    "    root.right = buildTree(inorder[mid + 1:], postorder[mid: -1])\n",
    "    return root"
   ]
  },
  {
   "cell_type": "code",
   "execution_count": null,
   "metadata": {},
   "outputs": [],
   "source": [
    "def ljzh(root, targetSum):\n",
    "    ans = []\n",
    "    def dfs(node, curpath, cursum):\n",
    "        if not node:\n",
    "            return \n",
    "        curpath += [node.val]\n",
    "        cursum += node.val\n",
    "        if not node.left and not node.right and cursum == targetSum:\n",
    "            ans.append(curpath)\n",
    "        dfs(node.left, curpath, cursum)\n",
    "        dfs(node.right, curpath, cursum)\n",
    "    dfs(root, [], 0)\n",
    "    return ans "
   ]
  },
  {
   "cell_type": "code",
   "execution_count": 1,
   "metadata": {},
   "outputs": [],
   "source": [
    "def ljzh(root, targetSum):\n",
    "    presum = defaultdict(int)\n",
    "    presum[0] = 1\n",
    "    count = 0\n",
    "    def dfs(node, cur_sum):\n",
    "        if not node:\n",
    "            return\n",
    "        nonlocal count\n",
    "        cur_sum += node.val\n",
    "        count += presum[cur_sum - targetSum]\n",
    "        presum[cursum] += 1\n",
    "        dfs(node.left, cur_sum)\n",
    "        dfs(node.right, cur_sum)\n",
    "        presum[cursum] -= 1\n",
    "    dfs(root, 0)\n",
    "    return count"
   ]
  },
  {
   "cell_type": "code",
   "execution_count": null,
   "metadata": {},
   "outputs": [],
   "source": [
    "def LCA(root, p, q):\n",
    "    if root in (None, p, q):\n",
    "        return root\n",
    "    left = LCA(root.left, p, q)\n",
    "    right = LCA(root.right, p, q)\n",
    "    if left and right:\n",
    "        return root\n",
    "    return left or right\n",
    "    "
   ]
  },
  {
   "cell_type": "code",
   "execution_count": 2,
   "metadata": {},
   "outputs": [],
   "source": [
    "def zuidalujinghe(root):\n",
    "    ans = float(\"-inf\")\n",
    "    def dfs(node):\n",
    "        nonlocal ans\n",
    "        if not node:\n",
    "            return\n",
    "        l_len = max(dfs(node.left), 0)\n",
    "        r_len = max(dfs(node.right), 0)\n",
    "        cur_path = l_len + r_len + node.val\n",
    "        ans = max(ans, cur_path)\n",
    "        return max(l_len, r_len) + node.val\n",
    "    dfs(root)\n",
    "    return ans"
   ]
  },
  {
   "cell_type": "code",
   "execution_count": 3,
   "metadata": {},
   "outputs": [
    {
     "data": {
      "text/plain": [
       "2"
      ]
     },
     "execution_count": 3,
     "metadata": {},
     "output_type": "execute_result"
    }
   ],
   "source": [
    "def daoyushuliang(grid):\n",
    "    row, col = len(grid), len(grid[0])\n",
    "    def dfs(i, j):\n",
    "        if i < 0 or i >= row or j < 0 or j >= col or grid[i][j] == \"0\":\n",
    "            return\n",
    "        grid[i][j] = \"0\"\n",
    "        dfs(i + 1, j)\n",
    "        dfs(i, j + 1)\n",
    "        dfs(i - 1, j)\n",
    "        dfs(i, j - 1)\n",
    "    count = 0\n",
    "    for i in range(row):\n",
    "        for j in range(col):\n",
    "            if grid[i][j] == \"1\":\n",
    "                dfs(i, j)\n",
    "                count += 1\n",
    "    return count\n",
    "\n",
    "grid = [[\"1\",\"0\",\"1\",\"1\"]]\n",
    "daoyushuliang(grid)"
   ]
  },
  {
   "cell_type": "code",
   "execution_count": null,
   "metadata": {},
   "outputs": [],
   "source": [
    "def juzi(grid):\n",
    "    row, col = len(grid), len(grid[0])\n",
    "    fresh_count = 0\n",
    "    queue = deque()\n",
    "    for i in range(row):\n",
    "        for j in range(col):\n",
    "            if grid[i][j] == 2:\n",
    "                queue.append((i, j))\n",
    "            elif grid[i][j] == 1:\n",
    "                fresh_count += 1\n",
    "    minute = 0\n",
    "    direction = [(-1, 0), (1, 0), (0, 1), (0, -1)]\n",
    "    while queue and fresh_count > 0:\n",
    "        minute += 1\n",
    "        for _ in range(len(queue)):\n",
    "            x, y = queue.popleft()\n",
    "            for dx, dy in direction:\n",
    "                nx, ny = x + dx, y + dy\n",
    "                if 0 <= nx < row and 0 <= ny < col and grid[nx][ny] == 1:\n",
    "                    grid[nx][ny] = 2\n",
    "                    fresh_count -= 1\n",
    "                    queue.append((nx, ny))\n",
    "    return minute\n"
   ]
  },
  {
   "cell_type": "code",
   "execution_count": null,
   "metadata": {},
   "outputs": [],
   "source": [
    "def kcb(numCourses, prerequisites):\n",
    "    graph = [[] for _ in range(numCourses)]\n",
    "    for u, v in prerequisites:\n",
    "        "
   ]
  },
  {
   "cell_type": "code",
   "execution_count": null,
   "metadata": {},
   "outputs": [],
   "source": []
  },
  {
   "cell_type": "code",
   "execution_count": null,
   "metadata": {},
   "outputs": [],
   "source": []
  },
  {
   "cell_type": "code",
   "execution_count": null,
   "metadata": {},
   "outputs": [],
   "source": []
  },
  {
   "cell_type": "code",
   "execution_count": null,
   "metadata": {},
   "outputs": [],
   "source": []
  },
  {
   "cell_type": "code",
   "execution_count": null,
   "metadata": {},
   "outputs": [],
   "source": []
  },
  {
   "cell_type": "code",
   "execution_count": null,
   "metadata": {},
   "outputs": [],
   "source": []
  },
  {
   "cell_type": "code",
   "execution_count": null,
   "metadata": {},
   "outputs": [],
   "source": []
  },
  {
   "cell_type": "code",
   "execution_count": null,
   "metadata": {},
   "outputs": [],
   "source": []
  },
  {
   "cell_type": "code",
   "execution_count": null,
   "metadata": {},
   "outputs": [],
   "source": []
  },
  {
   "cell_type": "code",
   "execution_count": null,
   "metadata": {},
   "outputs": [],
   "source": []
  },
  {
   "cell_type": "code",
   "execution_count": null,
   "metadata": {},
   "outputs": [],
   "source": []
  },
  {
   "cell_type": "code",
   "execution_count": null,
   "metadata": {},
   "outputs": [],
   "source": []
  },
  {
   "cell_type": "code",
   "execution_count": null,
   "metadata": {},
   "outputs": [],
   "source": []
  },
  {
   "cell_type": "code",
   "execution_count": null,
   "metadata": {},
   "outputs": [],
   "source": []
  },
  {
   "cell_type": "code",
   "execution_count": null,
   "metadata": {},
   "outputs": [],
   "source": []
  },
  {
   "cell_type": "code",
   "execution_count": null,
   "metadata": {},
   "outputs": [],
   "source": []
  },
  {
   "cell_type": "code",
   "execution_count": null,
   "metadata": {},
   "outputs": [],
   "source": []
  },
  {
   "cell_type": "code",
   "execution_count": null,
   "metadata": {},
   "outputs": [],
   "source": []
  },
  {
   "cell_type": "code",
   "execution_count": null,
   "metadata": {},
   "outputs": [],
   "source": []
  },
  {
   "cell_type": "code",
   "execution_count": null,
   "metadata": {},
   "outputs": [],
   "source": []
  },
  {
   "cell_type": "code",
   "execution_count": null,
   "metadata": {},
   "outputs": [],
   "source": []
  },
  {
   "cell_type": "code",
   "execution_count": null,
   "metadata": {},
   "outputs": [],
   "source": []
  },
  {
   "cell_type": "code",
   "execution_count": null,
   "metadata": {},
   "outputs": [],
   "source": []
  },
  {
   "cell_type": "code",
   "execution_count": null,
   "metadata": {},
   "outputs": [],
   "source": []
  },
  {
   "cell_type": "code",
   "execution_count": null,
   "metadata": {},
   "outputs": [],
   "source": []
  },
  {
   "cell_type": "code",
   "execution_count": null,
   "metadata": {},
   "outputs": [],
   "source": []
  },
  {
   "cell_type": "code",
   "execution_count": null,
   "metadata": {},
   "outputs": [],
   "source": []
  },
  {
   "cell_type": "code",
   "execution_count": null,
   "metadata": {},
   "outputs": [],
   "source": []
  },
  {
   "cell_type": "code",
   "execution_count": null,
   "metadata": {},
   "outputs": [],
   "source": []
  },
  {
   "cell_type": "code",
   "execution_count": null,
   "metadata": {},
   "outputs": [],
   "source": []
  },
  {
   "cell_type": "code",
   "execution_count": null,
   "metadata": {},
   "outputs": [],
   "source": []
  },
  {
   "cell_type": "code",
   "execution_count": null,
   "metadata": {},
   "outputs": [],
   "source": []
  },
  {
   "cell_type": "code",
   "execution_count": null,
   "metadata": {},
   "outputs": [],
   "source": []
  },
  {
   "cell_type": "code",
   "execution_count": null,
   "metadata": {},
   "outputs": [],
   "source": []
  },
  {
   "cell_type": "code",
   "execution_count": null,
   "metadata": {},
   "outputs": [],
   "source": []
  },
  {
   "cell_type": "code",
   "execution_count": null,
   "metadata": {},
   "outputs": [],
   "source": []
  },
  {
   "cell_type": "code",
   "execution_count": null,
   "metadata": {},
   "outputs": [],
   "source": []
  },
  {
   "cell_type": "code",
   "execution_count": null,
   "metadata": {},
   "outputs": [],
   "source": []
  },
  {
   "cell_type": "code",
   "execution_count": null,
   "metadata": {},
   "outputs": [],
   "source": []
  },
  {
   "cell_type": "code",
   "execution_count": null,
   "metadata": {},
   "outputs": [],
   "source": []
  },
  {
   "cell_type": "code",
   "execution_count": null,
   "metadata": {},
   "outputs": [],
   "source": []
  },
  {
   "cell_type": "code",
   "execution_count": null,
   "metadata": {},
   "outputs": [],
   "source": []
  },
  {
   "cell_type": "code",
   "execution_count": null,
   "metadata": {},
   "outputs": [],
   "source": []
  },
  {
   "cell_type": "code",
   "execution_count": null,
   "metadata": {},
   "outputs": [],
   "source": []
  },
  {
   "cell_type": "code",
   "execution_count": null,
   "metadata": {},
   "outputs": [],
   "source": []
  },
  {
   "cell_type": "code",
   "execution_count": null,
   "metadata": {},
   "outputs": [],
   "source": []
  },
  {
   "cell_type": "code",
   "execution_count": null,
   "metadata": {},
   "outputs": [],
   "source": []
  },
  {
   "cell_type": "code",
   "execution_count": null,
   "metadata": {},
   "outputs": [],
   "source": []
  }
 ],
 "metadata": {
  "kernelspec": {
   "display_name": "taxi",
   "language": "python",
   "name": "python3"
  },
  "language_info": {
   "codemirror_mode": {
    "name": "ipython",
    "version": 3
   },
   "file_extension": ".py",
   "mimetype": "text/x-python",
   "name": "python",
   "nbconvert_exporter": "python",
   "pygments_lexer": "ipython3",
   "version": "3.11.0"
  }
 },
 "nbformat": 4,
 "nbformat_minor": 2
}
