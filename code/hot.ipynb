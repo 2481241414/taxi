{
 "cells": [
  {
   "cell_type": "code",
   "execution_count": null,
   "metadata": {},
   "outputs": [],
   "source": [
    "def twoSum(nums, target):\n",
    "    result = {}\n",
    "    for i, num in enumerate(nums):\n",
    "        if target - num in result:\n",
    "            return [result[target - num], i]\n",
    "        else:\n",
    "            result[num] = i\n",
    "            "
   ]
  },
  {
   "cell_type": "code",
   "execution_count": null,
   "metadata": {},
   "outputs": [],
   "source": [
    "def addtwonumbers(l1, l2):\n",
    "    cur = dummy = ListNode()\n",
    "    num = 0\n",
    "    while l1 or l2 or num:\n",
    "        val1 = l1.val if l1 else 0\n",
    "        val2 = l2.val if l2 else 0\n",
    "        total = val1 + val2 + num\n",
    "        num = total // 10\n",
    "        total = total % 10\n",
    "        cur.next = ListNode(total)\n",
    "        cur = cur.next\n",
    "        if l1:\n",
    "            l1 = l1.next\n",
    "        if l2:\n",
    "            l2 = l2.next\n",
    "    return dummy.next\n",
    "    "
   ]
  },
  {
   "cell_type": "code",
   "execution_count": null,
   "metadata": {},
   "outputs": [],
   "source": [
    "def maxzichuan(s):\n",
    "    window = set()\n",
    "    left = 0\n",
    "    ans  = 0\n",
    "    for right, c in enumerate(s):\n",
    "        while c in window:\n",
    "            window.remove(s[left])\n",
    "            left += 1\n",
    "        window.add(c)\n",
    "        ans = max(ans, right - left + 1)\n",
    "    return ans"
   ]
  },
  {
   "cell_type": "code",
   "execution_count": null,
   "metadata": {},
   "outputs": [],
   "source": [
    "def expand(s, i, j):\n",
    "    while i >= 0 and j < len(s) and s[l] == s[r]:\n",
    "        i -= 1\n",
    "        j += 1\n",
    "    return j - i - 1\n",
    "def huiwenzichuan(s):\n",
    "    start, end = 0, 0\n",
    "    for i in range(len(s)):\n",
    "        len1 = expand(s, i, i)\n",
    "        len2 = expand(s, i, i + 1)\n",
    "        max_len = max(len1, len2)\n",
    "        if max_len > end - start:\n",
    "            start = i - (max_len - 1) // 2\n",
    "            end = i + max_len // 2\n",
    "    return s[start: end + 1]"
   ]
  },
  {
   "cell_type": "code",
   "execution_count": 1,
   "metadata": {},
   "outputs": [],
   "source": [
    "def maxArea(height):\n",
    "    ans = 0\n",
    "    left, right = 0, len(height) - 1\n",
    "    while left < right:\n",
    "        cur = min(height[left], height[right])\n",
    "        ans = max(ans, cur)\n",
    "        if height[left] < height[right]:\n",
    "            left += 1\n",
    "        else:\n",
    "            right -= 1\n",
    "    return ans"
   ]
  },
  {
   "cell_type": "code",
   "execution_count": 3,
   "metadata": {},
   "outputs": [
    {
     "data": {
      "text/plain": [
       "[[-1, 0, 1]]"
      ]
     },
     "execution_count": 3,
     "metadata": {},
     "output_type": "execute_result"
    }
   ],
   "source": [
    "def threeSum(nums):\n",
    "    nums.sort()\n",
    "    result = []\n",
    "    n = len(nums)\n",
    "    for i in range(n):\n",
    "        if i > 0 and nums[i] == nums[i - 1]:\n",
    "            continue\n",
    "        left, right = i + 1, n - 1\n",
    "        while left < right:\n",
    "            total = nums[i] + nums[left] + nums[right]\n",
    "            if total > 0:\n",
    "                right -= 1\n",
    "            elif total < 0:\n",
    "                left += 1\n",
    "            else:\n",
    "                result.append([nums[i], nums[left], nums[right]])\n",
    "                while left < right and nums[left] == nums[left + 1]:\n",
    "                    left += 1\n",
    "                while left < right and nums[right] == nums[right - 1]:\n",
    "                    right -= 1\n",
    "                left += 1\n",
    "                right -= 1\n",
    "    return result\n",
    "nums = [1, 0, -1]\n",
    "threeSum(nums)\n",
    "                    "
   ]
  },
  {
   "cell_type": "code",
   "execution_count": 5,
   "metadata": {},
   "outputs": [
    {
     "data": {
      "text/plain": [
       "['ad', 'ae', 'af', 'bd', 'be', 'bf', 'cd', 'ce', 'cf']"
      ]
     },
     "execution_count": 5,
     "metadata": {},
     "output_type": "execute_result"
    }
   ],
   "source": [
    "def dianhua(digits):\n",
    "    MAPPING = \"\", \"\", \"abc\", \"def\", \"ghi\", \"jkl\", \"mno\", \"pqrs\", \"tuv\", \"wxyz\"\n",
    "    n = len(digits)\n",
    "    ans = []\n",
    "    path = [''] * n\n",
    "    if n == 0:\n",
    "        return []\n",
    "    def backtrack(i):\n",
    "        if i == n:\n",
    "            ans.append(''.join(path))\n",
    "            return \n",
    "        for c in MAPPING[int(digits[i])]:\n",
    "            path.append(c)\n",
    "            backtrack(i + 1)\n",
    "            path.pop()\n",
    "    backtrack(0)\n",
    "    return ans\n",
    "dianhua(\"23\")"
   ]
  },
  {
   "cell_type": "code",
   "execution_count": null,
   "metadata": {},
   "outputs": [
    {
     "data": {
      "text/plain": [
       "'120'"
      ]
     },
     "execution_count": 1,
     "metadata": {},
     "output_type": "execute_result"
    }
   ],
   "source": [
    "def addString(num1, num2):\n",
    "    res = \"\"\n",
    "    i, j = len(num1) - 1, len(num2) - 1\n",
    "    carry = 0\n",
    "    while i >= 0 or j >= 0:\n",
    "        n1 = int(num1[i]) if i >= 0 else 0\n",
    "        n2 = int(num2[j]) if j >= 0 else 0\n",
    "        tmp = n1 + n2 + carry\n",
    "        carry = tmp // 10\n",
    "        res = str(tmp % 10) + res\n",
    "        i, j = i - 1, j - 1\n",
    "    return \"1\" + res if carry else res\n",
    "num1 = \"111\"\n",
    "num2 = \"9\"\n",
    "addString(num1, num2)\n"
   ]
  },
  {
   "cell_type": "code",
   "execution_count": 2,
   "metadata": {},
   "outputs": [],
   "source": [
    "def removeNode(head, n):\n",
    "    dummy = ListNode()\n",
    "    dummy.next = head\n",
    "    slow = fast = dummy\n",
    "    for i in range(n + 1):\n",
    "        fast = fast.next\n",
    "    while fast:\n",
    "        fast = fast.next\n",
    "        slow = slow.next\n",
    "    slow.next = slow.next.next\n",
    "    return dummy.next\n",
    "    "
   ]
  },
  {
   "cell_type": "code",
   "execution_count": null,
   "metadata": {},
   "outputs": [
    {
     "data": {
      "text/plain": [
       "True"
      ]
     },
     "execution_count": 3,
     "metadata": {},
     "output_type": "execute_result"
    }
   ],
   "source": [
    "def isValid(s):\n",
    "    if len(s) % 2 != 0:\n",
    "        return False\n",
    "    stack = []\n",
    "    mp = {\"}\":\"{\", \"]\": \"[\", \")\": \"(\"}\n",
    "    for c in mp:\n",
    "        if c not in mp:\n",
    "            stack.append(c)\n",
    "        elif not stack or stack.pop() != mp[c]:\n",
    "            return False\n",
    "    \n",
    "s = \"({{}})\"\n",
    "isValid(s)"
   ]
  },
  {
   "cell_type": "code",
   "execution_count": null,
   "metadata": {},
   "outputs": [],
   "source": []
  }
 ],
 "metadata": {
  "kernelspec": {
   "display_name": "taxi",
   "language": "python",
   "name": "python3"
  },
  "language_info": {
   "codemirror_mode": {
    "name": "ipython",
    "version": 3
   },
   "file_extension": ".py",
   "mimetype": "text/x-python",
   "name": "python",
   "nbconvert_exporter": "python",
   "pygments_lexer": "ipython3",
   "version": "3.11.0"
  }
 },
 "nbformat": 4,
 "nbformat_minor": 2
}
